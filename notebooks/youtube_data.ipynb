{
 "cells": [
  {
   "cell_type": "code",
   "execution_count": 1,
   "metadata": {},
   "outputs": [],
   "source": [
    "import os\n",
    "from googleapiclient.discovery import build\n",
    "from googleapiclient.errors import HttpError\n",
    "from dotenv import load_dotenv, find_dotenv\n",
    "import google_auth_oauthlib.flow\n",
    "import googleapiclient.discovery\n",
    "import googleapiclient.errors\n",
    "\n",
    "from googleapiclient.http import MediaIoBaseDownload"
   ]
  },
  {
   "cell_type": "code",
   "execution_count": 2,
   "metadata": {},
   "outputs": [],
   "source": [
    "# find .env automagically by walking up directories until it's found\n",
    "dotenv_path = find_dotenv()\n",
    "\n",
    "# load up the entries as environment variables\n",
    "load_dotenv(dotenv_path)\n",
    "\n",
    "DEVELOPER_KEY = os.environ.get(\"YOUTUBE_DEVELOPER_KEY\")\n",
    "YOUTUBE_API_SERVICE_NAME = 'youtube'\n",
    "YOUTUBE_API_VERSION = 'v3'"
   ]
  },
  {
   "cell_type": "code",
   "execution_count": 34,
   "metadata": {},
   "outputs": [],
   "source": [
    "def youtube_search(q, max_results):\n",
    "  youtube = build(\n",
    "    YOUTUBE_API_SERVICE_NAME, \n",
    "    YOUTUBE_API_VERSION, \n",
    "    developerKey=DEVELOPER_KEY)\n",
    "\n",
    "  # Call the search.list method to retrieve results matching the specified query term.\n",
    "  search_response = youtube.search().list(\n",
    "    q=q,\n",
    "    part='id,snippet',\n",
    "    maxResults=max_results,\n",
    "    # type=item_type\n",
    "  ).execute()\n",
    "\n",
    "  videos = []\n",
    "  channels = []\n",
    "  playlists = []\n",
    "  video_details = []\n",
    "\n",
    "  # Add each result to the appropriate list, and then display the lists of\n",
    "  # matching videos, channels, and playlists.\n",
    "  for search_result in search_response.get('items', []):\n",
    "    # print(search_result)\n",
    "    if search_result['id']['kind'] == 'youtube#video':\n",
    "      video_details.append(\n",
    "              {\n",
    "                  'title': search_result['snippet']['title'], \n",
    "                  'video': search_result['id']['videoId'], \n",
    "                  'description': search_result['snippet']['description']\n",
    "              }\n",
    "              )\n",
    "    # if search_result['id']['kind'] == 'youtube#video':\n",
    "    #   videos.append('%s (%s)' % (search_result['snippet']['title'],\n",
    "    #                              search_result['id']['videoId']))\n",
    "    # elif search_result['id']['kind'] == 'youtube#channel':\n",
    "    #   channels.append('%s (%s)' % (search_result['snippet']['title'],\n",
    "    #                                search_result['id']['channelId']))\n",
    "    # elif search_result['id']['kind'] == 'youtube#playlist':\n",
    "    #   playlists.append('%s (%s)' % (search_result['snippet']['title'],\n",
    "    #                                 search_result['id']['playlistId']))\n",
    "\n",
    "  # print('Videos:\\n', '\\n'.join(videos), '\\n')\n",
    "  # print('Channels:\\n', '\\n'.join(channels), '\\n')\n",
    "  # print('Playlists:\\n', '\\n'.join(playlists), '\\n')\n",
    "  print(video_details)\n",
    "  return video_details\n",
    "  # return videos, channels, playlists"
   ]
  },
  {
   "cell_type": "code",
   "execution_count": 35,
   "metadata": {},
   "outputs": [
    {
     "name": "stdout",
     "output_type": "stream",
     "text": [
      "[{'title': 'Top Excel courses for Data Analysts 🧑\\u200d🎓📊', 'video': 'WrNvDniOUwo', 'description': 'Excel Skills for Business https://lukeb.co/ExcelBusinessAnalyst Excel Basics for Data Analytics ...'}, {'title': 'Master Data Analysis on Excel in Just 10 Minutes', 'video': '_g5roKHj95o', 'description': 'AD: Sign up to enroll for a 7-day free trial with Coursera now!'}, {'title': 'Excel Data Analytics Full Course | Essential Skills For Data Analysis In Excel | Simplilearn', 'video': 'OOWAk2aLEfk', 'description': 'Post Graduate Program in Data Analytics: ...'}, {'title': 'Top 10 Essential Excel Formulas for Analysts in 2023', 'video': 'MeBYShlqsak', 'description': 'Learn the only Excel formulas you need as an Analyst in 2023 to get most things done. Get FREE Excel chart templates from ...'}, {'title': 'Advanced Excel Full Course 2022 | 🔥Advanced Excel Functions | MS Excel 19 Training | Simplilearn', 'video': 'RkQl2wVpQAo', 'description': 'Post Graduate Program in Data Analytics: ...'}, {'title': '12 Excel shortcuts you can start using today! #dataanalytics #datascience #data #machinelearning', 'video': 'hx-uuzgF6No', 'description': ''}, {'title': 'Advanced Excel Full Course 2023 | Excel Tutorial For Beginners | Excel Training | Simplilearn', 'video': '8Ob8Hre_SnI', 'description': 'Post Graduate Program In Data Analytics: ...'}, {'title': '🔥Business Analytics And Excel Full Course 2023 | Data Analytics With Excel | Excel | Simplilearn', 'video': 'K1yz9izM4lQ', 'description': 'Post Graduate Program In Business Analysis: ...'}, {'title': 'Excel interview questions || countif formula in excel #shorts #howto', 'video': '51b-KqrNSQw', 'description': 'Excel interview questions || countif formula in excel #shorts #howto Practice File Link ...'}, {'title': 'Excel Hacks | Excel Tutoring  Excel Formula for Job Interview Excel for Fresher  Excel for Beginners', 'video': 'EUgmAbQusQE', 'description': 'sequence formula works in office 365 and office 2021 For More Such Videos Subscribe ...'}, {'title': 'Microsoft Excel Tutorial -  Beginners Level 1', 'video': 'k1VUZEVuDJ8', 'description': \"Want more Excel videos? Here's my Excel playlist: ...\"}, {'title': 'Business Analytics with Excel | Data Science Tutorial | Simplilearn', 'video': 'W3vrMSah3rc', 'description': 'Business Analyst Program (Discount Coupon: YTBE15) ...'}, {'title': '#computer #excelshorts | Excel Tips And Tricks | Excel tutorial || Excel Data Entry Work / #shorts', 'video': 'EOTuz-JvB9g', 'description': 'computer #excelshorts || Excel Tips And Tricks || Excel tutorial || Excel Hidden Tricks #what time is it in text #what day is it #how to ...'}, {'title': 'Flash Fill- Full Name- Excel tips &amp; Tricks from @todfodeducation', 'video': '4zz4WkhCwKY', 'description': \"Flash Fill- Full Name- Excel tips & Tricks . Have you tried this one before? . Don't forget to save this post for future reference!\"}, {'title': 'Data Analysis with Excel', 'video': 'CnR3yDXZQ1M', 'description': \"Data Analysis with Excel Exercise File: https://bit.ly/3tQcBZW Overview & Topics: This session will be based on Learnit's full-length ...\"}, {'title': '#Shorts | Advance Filter Hacks | Only 1 % Excel User Know | Excel Tips &amp; Tricks', 'video': 'XSMGT4CLLBE', 'description': 'Shorts | Advance Filter Hacks | Only 1 % Excel User Know | Excel Tips & Tricks #shorts #advancefilter #gyaniabhijeetji.'}, {'title': 'Top 10 Most Important Excel Formulas - Made Easy!', 'video': 'ShBTJrdioLo', 'description': 'This video provides a basic introduction into the top 10 most important formulas used in excel. These include the average function, ...'}, {'title': 'Beginner to Pro FREE Excel Data Analysis Course', 'video': 'v2oNWja7M2E', 'description': 'You asked for it. Here is my free course to help you kick start your data analytics journey. In this comprehensive video, learn: 1) ...'}, {'title': 'Don&#39;t Drag use this Excel Tricks ||#excel', 'video': 'JGVI3tn5ock', 'description': 'How to insert multiple value with one tricks ||#shorts ||#excelshortsvideo.'}, {'title': 'Don&#39;t tell your boss this Excel trick 😎', 'video': 'HxJiBDf70k0', 'description': 'No need for pivot tables or complicated formulas and functions. Click one button to view insights and ask questions about your ...'}, {'title': 'Excel AI - data analysis made easy', 'video': 'b-cFv2DvEqE', 'description': 'In this step-by-step tutorial, learn how to use Artificial Intelligence or A.I. in Microsoft Excel to easily and to quickly analyze your ...'}, {'title': 'Excel Formulas and Functions | Full Course', 'video': 'Y8xhrUa3KH4', 'description': 'In this step-by-step Microsoft Excel tutorial, learn how to use Formulas and Functions. We start with the fundamentals of entering ...'}, {'title': 'Use Some Creativity In Excel Sheet 😎🔥🔥 || Subscribe for More Tips and Tricks 🔥🙌', 'video': 'YN3vH2Tv6G4', 'description': 'Follow on Instagram : https://www.instagram.com/achieve__the__best/?utm_medium=copy_link Follow on Facebook ...'}, {'title': 'Microsoft Excel Tutorial for Beginners - Full Course', 'video': 'Vl0H-qTclOg', 'description': 'Lean how to use Microsoft Excel from the beginning by creating 6 real-world projects. Most of the content applies to Google ...'}, {'title': 'TOP 10 Excel Shortcuts in 1 Minute #shorts', 'video': 'WY_y0apzeGs', 'description': 'Join 400000+ professionals in our courses: https://www.xelplus.com/courses/ Check out my top 10 Excel Shortcuts. These shortcut ...'}, {'title': 'The 10 Most Important Excel Formulas - Made Easy! (2023)', 'video': 'B4dBMsOT1aA', 'description': \"Looking to start analyzing your first dataset in Microsoft Excel? We've prepared the top 10 functions you will need in your career ...\"}, {'title': 'Excel + A.I. = Magic 🤯🔥 #shorts #ai', 'video': 'EQRFtvJh8N0', 'description': ''}, {'title': 'Excel Interview Question Advanced Filter Formula in Excel #excel #exceltips #exceltutorial #msexcel', 'video': 'TPb4gNYkhqA', 'description': 'Excel Interview Question Advanced Filter Formula in Excel #excel #exceltips #exceltutorial #msexcel YEARFRAC Formula in ...'}, {'title': 'Advanced XLOOKUP Formula in Excel #excel #exceltips #exceltutorial #shorts #msexcel #microsoftexcel', 'video': 'WKIJ4DMQ88Q', 'description': 'Advanced XLOOKUP Formula in Excel #excel #exceltips #exceltutorial #shorts #msexcel #microsoftexcel YEARFRAC Formula in ...'}, {'title': 'Learn Business Intelligence with Excel. Become an Analyst. Get Hired. | Zero To Mastery', 'video': 'yxlgE6Be8xo', 'description': 'Your mission, should you choose to accept it, is to become a Data Professional. And this Business Intelligence with Excel ...'}, {'title': 'Data Analysis In Excel- 1 | Excel Data Analysis Tutorial | Excel Tutorial For Beginners |Simplilearn', 'video': '2xxMJEj4Oyg', 'description': \"Data Analyst Master's Program (Discount Coupon: YTBE15): ...\"}, {'title': 'Use This Trick For Impressive Excel Sheet || Subscribe For More', 'video': '7K6B7nJ5Moc', 'description': 'Follow on Instagram : https://www.instagram.com/achieve__the__best/?utm_medium=copy_link Follow on Facebook ...'}, {'title': 'Excel Pro Trick: Filter Data Dynamically with Excel FILTER Function - How to Tutorial', 'video': 'AwKsb5VmtBI', 'description': 'Excel allows us to filter data with a dedicated tool. We can even access it with an Excel shortcut. However, if we have to use the ...'}, {'title': 'ms Excel Magical formula and tricks #shortvideo #video #trandingshorts #newshorts #exceltricks', 'video': 'BFvjNJsK02k', 'description': ''}, {'title': '3 Essential Excel skills for the data analyst', 'video': 'I1XeDS-GLbg', 'description': 'This is my opinion on the 3 key Excel skills a data analyst requires. Understanding the use of Power Query, Tables and Pivot ...'}, {'title': 'Introduction to Data Analysis with Excel: 2-Hour Training Tutorial', 'video': 'kghcAk7l6eA', 'description': 'Download the free course exercise files to follow along ...'}, {'title': 'Excel trick - 101 | Hide Unwanted cell in Excel #shorts #excel #exceltips #tips #tricks', 'video': 'NPD5Jeoyk1s', 'description': 'Hello friend Ms Excel time saving advance tricks. Links of Other videos 1. How to find circular sum ...'}, {'title': 'एक्सेल का सॉलिड फॉर्मूला | Rank Formula of Excel | #Shorts #EdBharat #Excel', 'video': '9_w981isyAA', 'description': 'एक्सेल का सॉलिड फॉर्मूला | Rank Formula of Excel - In this video you will learn about rank formula of excel, ...'}, {'title': 'Excel Full Course for Data Analysis with Projects [ 2 Hours] | Excel Tutorial 2023', 'video': 'SA_SDo-cqpg', 'description': 'Welcome to our Excel Full Course for Data Analysis with Projects! In this in-depth tutorial, we explore the powerful capabilities of ...'}, {'title': 'Excel Formulas and Functions Tutorial', 'video': 'Jl0Qk63z2ZY', 'description': 'Learn how to use formulas in Excel, including the following functions & formulas: ⌚ Timestamps 0:00 Introduction 0:55 Add 1:55 ...'}, {'title': 'Excel Tricks And Tips || Excel Shorts Video || #Shorts Excel Shortcut Keys', 'video': 'z7wE2p09Nqk', 'description': 'Use of Randbetween function Excel Bassic class,Excel ki Bassic class, Excel Bassic class1st, Mis interview, Mis, mis queries, mis ...'}, {'title': 'Top Excel Functions for Data Analysts &amp; What NOT to Waste Time Learning', 'video': '2ms9ZUJbmpg', 'description': \"Top Excel Functions for Data Analysts and what functions you don't have to waste time learning and why. Download the example ...\"}, {'title': 'Data Analysis Tutorial in Excel #shorts  #excel #fun #trending', 'video': 'xEjSy3fxWnk', 'description': 'Hi, Thanks for watching our video about Microsoft Excel. Data Analysis Tutorial in Excel Data Analysis using Microsoft Excel ...'}, {'title': 'VLOOKUP function in Excel explained in 60 Seconds', 'video': 'pdOe9FQA50k', 'description': 'How to use the VLOOKUP function in Excel. Join my online course on Excel Tables ...'}]\n"
     ]
    }
   ],
   "source": [
    "videos_list = youtube_search(q='Master 75+ MS Excel formulas and learn data analysis with a top Microsoft Excel & business intelligence instructor · ', max_results=50)"
   ]
  },
  {
   "cell_type": "code",
   "execution_count": 36,
   "metadata": {},
   "outputs": [
    {
     "data": {
      "text/plain": [
       "list"
      ]
     },
     "execution_count": 36,
     "metadata": {},
     "output_type": "execute_result"
    }
   ],
   "source": [
    "type(videos_list)"
   ]
  },
  {
   "cell_type": "code",
   "execution_count": 38,
   "metadata": {},
   "outputs": [
    {
     "name": "stdout",
     "output_type": "stream",
     "text": [
      "0\n",
      "{'title': 'Top Excel courses for Data Analysts 🧑\\u200d🎓📊', 'video': 'WrNvDniOUwo', 'description': 'Excel Skills for Business https://lukeb.co/ExcelBusinessAnalyst Excel Basics for Data Analytics ...'}\n",
      "1\n",
      "{'title': 'Master Data Analysis on Excel in Just 10 Minutes', 'video': '_g5roKHj95o', 'description': 'AD: Sign up to enroll for a 7-day free trial with Coursera now!'}\n",
      "2\n",
      "{'title': 'Excel Data Analytics Full Course | Essential Skills For Data Analysis In Excel | Simplilearn', 'video': 'OOWAk2aLEfk', 'description': 'Post Graduate Program in Data Analytics: ...'}\n",
      "3\n",
      "{'title': 'Top 10 Essential Excel Formulas for Analysts in 2023', 'video': 'MeBYShlqsak', 'description': 'Learn the only Excel formulas you need as an Analyst in 2023 to get most things done. Get FREE Excel chart templates from ...'}\n",
      "4\n",
      "{'title': 'Advanced Excel Full Course 2022 | 🔥Advanced Excel Functions | MS Excel 19 Training | Simplilearn', 'video': 'RkQl2wVpQAo', 'description': 'Post Graduate Program in Data Analytics: ...'}\n",
      "5\n",
      "{'title': '12 Excel shortcuts you can start using today! #dataanalytics #datascience #data #machinelearning', 'video': 'hx-uuzgF6No', 'description': ''}\n",
      "6\n",
      "{'title': 'Advanced Excel Full Course 2023 | Excel Tutorial For Beginners | Excel Training | Simplilearn', 'video': '8Ob8Hre_SnI', 'description': 'Post Graduate Program In Data Analytics: ...'}\n",
      "7\n",
      "{'title': '🔥Business Analytics And Excel Full Course 2023 | Data Analytics With Excel | Excel | Simplilearn', 'video': 'K1yz9izM4lQ', 'description': 'Post Graduate Program In Business Analysis: ...'}\n",
      "8\n",
      "{'title': 'Excel interview questions || countif formula in excel #shorts #howto', 'video': '51b-KqrNSQw', 'description': 'Excel interview questions || countif formula in excel #shorts #howto Practice File Link ...'}\n",
      "9\n",
      "{'title': 'Excel Hacks | Excel Tutoring  Excel Formula for Job Interview Excel for Fresher  Excel for Beginners', 'video': 'EUgmAbQusQE', 'description': 'sequence formula works in office 365 and office 2021 For More Such Videos Subscribe ...'}\n",
      "10\n",
      "{'title': 'Microsoft Excel Tutorial -  Beginners Level 1', 'video': 'k1VUZEVuDJ8', 'description': \"Want more Excel videos? Here's my Excel playlist: ...\"}\n",
      "11\n",
      "{'title': 'Business Analytics with Excel | Data Science Tutorial | Simplilearn', 'video': 'W3vrMSah3rc', 'description': 'Business Analyst Program (Discount Coupon: YTBE15) ...'}\n",
      "12\n",
      "{'title': '#computer #excelshorts | Excel Tips And Tricks | Excel tutorial || Excel Data Entry Work / #shorts', 'video': 'EOTuz-JvB9g', 'description': 'computer #excelshorts || Excel Tips And Tricks || Excel tutorial || Excel Hidden Tricks #what time is it in text #what day is it #how to ...'}\n",
      "13\n",
      "{'title': 'Flash Fill- Full Name- Excel tips &amp; Tricks from @todfodeducation', 'video': '4zz4WkhCwKY', 'description': \"Flash Fill- Full Name- Excel tips & Tricks . Have you tried this one before? . Don't forget to save this post for future reference!\"}\n",
      "14\n",
      "{'title': 'Data Analysis with Excel', 'video': 'CnR3yDXZQ1M', 'description': \"Data Analysis with Excel Exercise File: https://bit.ly/3tQcBZW Overview & Topics: This session will be based on Learnit's full-length ...\"}\n",
      "15\n",
      "{'title': '#Shorts | Advance Filter Hacks | Only 1 % Excel User Know | Excel Tips &amp; Tricks', 'video': 'XSMGT4CLLBE', 'description': 'Shorts | Advance Filter Hacks | Only 1 % Excel User Know | Excel Tips & Tricks #shorts #advancefilter #gyaniabhijeetji.'}\n",
      "16\n",
      "{'title': 'Top 10 Most Important Excel Formulas - Made Easy!', 'video': 'ShBTJrdioLo', 'description': 'This video provides a basic introduction into the top 10 most important formulas used in excel. These include the average function, ...'}\n",
      "17\n",
      "{'title': 'Beginner to Pro FREE Excel Data Analysis Course', 'video': 'v2oNWja7M2E', 'description': 'You asked for it. Here is my free course to help you kick start your data analytics journey. In this comprehensive video, learn: 1) ...'}\n",
      "18\n",
      "{'title': 'Don&#39;t Drag use this Excel Tricks ||#excel', 'video': 'JGVI3tn5ock', 'description': 'How to insert multiple value with one tricks ||#shorts ||#excelshortsvideo.'}\n",
      "19\n",
      "{'title': 'Don&#39;t tell your boss this Excel trick 😎', 'video': 'HxJiBDf70k0', 'description': 'No need for pivot tables or complicated formulas and functions. Click one button to view insights and ask questions about your ...'}\n",
      "20\n",
      "{'title': 'Excel AI - data analysis made easy', 'video': 'b-cFv2DvEqE', 'description': 'In this step-by-step tutorial, learn how to use Artificial Intelligence or A.I. in Microsoft Excel to easily and to quickly analyze your ...'}\n",
      "21\n",
      "{'title': 'Excel Formulas and Functions | Full Course', 'video': 'Y8xhrUa3KH4', 'description': 'In this step-by-step Microsoft Excel tutorial, learn how to use Formulas and Functions. We start with the fundamentals of entering ...'}\n",
      "22\n",
      "{'title': 'Use Some Creativity In Excel Sheet 😎🔥🔥 || Subscribe for More Tips and Tricks 🔥🙌', 'video': 'YN3vH2Tv6G4', 'description': 'Follow on Instagram : https://www.instagram.com/achieve__the__best/?utm_medium=copy_link Follow on Facebook ...'}\n",
      "23\n",
      "{'title': 'Microsoft Excel Tutorial for Beginners - Full Course', 'video': 'Vl0H-qTclOg', 'description': 'Lean how to use Microsoft Excel from the beginning by creating 6 real-world projects. Most of the content applies to Google ...'}\n",
      "24\n",
      "{'title': 'TOP 10 Excel Shortcuts in 1 Minute #shorts', 'video': 'WY_y0apzeGs', 'description': 'Join 400000+ professionals in our courses: https://www.xelplus.com/courses/ Check out my top 10 Excel Shortcuts. These shortcut ...'}\n",
      "25\n",
      "{'title': 'The 10 Most Important Excel Formulas - Made Easy! (2023)', 'video': 'B4dBMsOT1aA', 'description': \"Looking to start analyzing your first dataset in Microsoft Excel? We've prepared the top 10 functions you will need in your career ...\"}\n",
      "26\n",
      "{'title': 'Excel + A.I. = Magic 🤯🔥 #shorts #ai', 'video': 'EQRFtvJh8N0', 'description': ''}\n",
      "27\n",
      "{'title': 'Excel Interview Question Advanced Filter Formula in Excel #excel #exceltips #exceltutorial #msexcel', 'video': 'TPb4gNYkhqA', 'description': 'Excel Interview Question Advanced Filter Formula in Excel #excel #exceltips #exceltutorial #msexcel YEARFRAC Formula in ...'}\n",
      "28\n",
      "{'title': 'Advanced XLOOKUP Formula in Excel #excel #exceltips #exceltutorial #shorts #msexcel #microsoftexcel', 'video': 'WKIJ4DMQ88Q', 'description': 'Advanced XLOOKUP Formula in Excel #excel #exceltips #exceltutorial #shorts #msexcel #microsoftexcel YEARFRAC Formula in ...'}\n",
      "29\n",
      "{'title': 'Learn Business Intelligence with Excel. Become an Analyst. Get Hired. | Zero To Mastery', 'video': 'yxlgE6Be8xo', 'description': 'Your mission, should you choose to accept it, is to become a Data Professional. And this Business Intelligence with Excel ...'}\n",
      "30\n",
      "{'title': 'Data Analysis In Excel- 1 | Excel Data Analysis Tutorial | Excel Tutorial For Beginners |Simplilearn', 'video': '2xxMJEj4Oyg', 'description': \"Data Analyst Master's Program (Discount Coupon: YTBE15): ...\"}\n",
      "31\n",
      "{'title': 'Use This Trick For Impressive Excel Sheet || Subscribe For More', 'video': '7K6B7nJ5Moc', 'description': 'Follow on Instagram : https://www.instagram.com/achieve__the__best/?utm_medium=copy_link Follow on Facebook ...'}\n",
      "32\n",
      "{'title': 'Excel Pro Trick: Filter Data Dynamically with Excel FILTER Function - How to Tutorial', 'video': 'AwKsb5VmtBI', 'description': 'Excel allows us to filter data with a dedicated tool. We can even access it with an Excel shortcut. However, if we have to use the ...'}\n",
      "33\n",
      "{'title': 'ms Excel Magical formula and tricks #shortvideo #video #trandingshorts #newshorts #exceltricks', 'video': 'BFvjNJsK02k', 'description': ''}\n",
      "34\n",
      "{'title': '3 Essential Excel skills for the data analyst', 'video': 'I1XeDS-GLbg', 'description': 'This is my opinion on the 3 key Excel skills a data analyst requires. Understanding the use of Power Query, Tables and Pivot ...'}\n",
      "35\n",
      "{'title': 'Introduction to Data Analysis with Excel: 2-Hour Training Tutorial', 'video': 'kghcAk7l6eA', 'description': 'Download the free course exercise files to follow along ...'}\n",
      "36\n",
      "{'title': 'Excel trick - 101 | Hide Unwanted cell in Excel #shorts #excel #exceltips #tips #tricks', 'video': 'NPD5Jeoyk1s', 'description': 'Hello friend Ms Excel time saving advance tricks. Links of Other videos 1. How to find circular sum ...'}\n",
      "37\n",
      "{'title': 'एक्सेल का सॉलिड फॉर्मूला | Rank Formula of Excel | #Shorts #EdBharat #Excel', 'video': '9_w981isyAA', 'description': 'एक्सेल का सॉलिड फॉर्मूला | Rank Formula of Excel - In this video you will learn about rank formula of excel, ...'}\n",
      "38\n",
      "{'title': 'Excel Full Course for Data Analysis with Projects [ 2 Hours] | Excel Tutorial 2023', 'video': 'SA_SDo-cqpg', 'description': 'Welcome to our Excel Full Course for Data Analysis with Projects! In this in-depth tutorial, we explore the powerful capabilities of ...'}\n",
      "39\n",
      "{'title': 'Excel Formulas and Functions Tutorial', 'video': 'Jl0Qk63z2ZY', 'description': 'Learn how to use formulas in Excel, including the following functions & formulas: ⌚ Timestamps 0:00 Introduction 0:55 Add 1:55 ...'}\n",
      "40\n",
      "{'title': 'Excel Tricks And Tips || Excel Shorts Video || #Shorts Excel Shortcut Keys', 'video': 'z7wE2p09Nqk', 'description': 'Use of Randbetween function Excel Bassic class,Excel ki Bassic class, Excel Bassic class1st, Mis interview, Mis, mis queries, mis ...'}\n",
      "41\n",
      "{'title': 'Top Excel Functions for Data Analysts &amp; What NOT to Waste Time Learning', 'video': '2ms9ZUJbmpg', 'description': \"Top Excel Functions for Data Analysts and what functions you don't have to waste time learning and why. Download the example ...\"}\n",
      "42\n",
      "{'title': 'Data Analysis Tutorial in Excel #shorts  #excel #fun #trending', 'video': 'xEjSy3fxWnk', 'description': 'Hi, Thanks for watching our video about Microsoft Excel. Data Analysis Tutorial in Excel Data Analysis using Microsoft Excel ...'}\n",
      "43\n",
      "{'title': 'VLOOKUP function in Excel explained in 60 Seconds', 'video': 'pdOe9FQA50k', 'description': 'How to use the VLOOKUP function in Excel. Join my online course on Excel Tables ...'}\n"
     ]
    }
   ],
   "source": [
    "for inde, video in enumerate(videos_list):\n",
    "    print(inde)\n",
    "    print(video)"
   ]
  },
  {
   "cell_type": "code",
   "execution_count": 15,
   "metadata": {},
   "outputs": [
    {
     "name": "stdout",
     "output_type": "stream",
     "text": [
      "Videos:\n",
      " Get Microsoft Office for free (H3ix2t4I7UU)\n",
      "Microsoft Excel Tutorial -  Beginners Level 1 (k1VUZEVuDJ8)\n",
      "🆓 How to Get Microsoft Excel for FREE (download &amp; web versions) (HzhduMsfOHw)\n",
      "Excel Tutorial for Beginners | Excel Made Easy (0tdlR1rBwkM)\n",
      "Advanced Excel Full Course 2023 | Excel Tutorial For Beginners | Excel Training | Simplilearn (8Ob8Hre_SnI)\n",
      "Microsoft Excel Tutorial (2021/365):  4.5+ Hours of Getting Started in Microsoft Excel 2021 (Lvk45S3j7Y8)\n",
      "Learn Microsoft Excel Tutorial For Beginners in UNDER 45 MINUTES! (Microsoft Office 365 Excel) (djzmmeQM-ew)\n",
      "Microsoft Excel Tutorial for Beginners - Full Course (Vl0H-qTclOg)\n",
      "Excel 2021/365 Beginners &amp; Intermediate Training: 10-Hour Excel Tutorial Class (fODnNDNMXiI)\n",
      "Microsoft Excel Tutorial: 3-Hour MS Excel 2019 Course for Beginners! (ZNGqeCcTu0Q)\n",
      "How to Get Microsoft Office for Free (DuQyKM7_V-Y)\n",
      "How to get Microsoft Excel for FREE!!! (sLYI4u-Cb8c)\n",
      "The Beginner&#39;s Guide to Excel - Excel Basics Tutorial (rwbho0CgEAE)\n",
      "Microsoft Excel Tutorial for Beginners | Excel Training | FREE Online Excel course (ormRboQsB-I)\n",
      "Microsoft Excel 2021/365 Tutorial: 3.5+ Hours of Advanced Excel Training Course (PlPgYOFJROI)\n",
      "Excel 2021 | MS-OFFICE 2021 Download and Install |  MS-OFFICE Latest Version  2023 (0mlcBZA_tCw)\n",
      "How to Update Microsoft Office, Word, Excel, PowerPoint (Free) (PREuEk_CFIw)\n",
      "How to Update Microsoft Excel | Microsoft Excel Tutorial | Microsoft 365 (VKiZ51hpzno)\n",
      "Excel Tutorial | Microsoft Excel Tutorial | Excel Training | Intellipaat (27dxBp0EgCc)\n",
      "Advanced Excel Full Course 2022 | 🔥Advanced Excel Functions | MS Excel 19 Training | Simplilearn (RkQl2wVpQAo)\n",
      "Flash Fill- Full Name- Excel tips &amp; Tricks from @todfodeducation (4zz4WkhCwKY)\n",
      "Microsoft Office Tutorial for Beginners: Learn Excel, PowerPoint, Word &amp; Outlook 12 HOURS (IUAq9r5B9Go)\n",
      "Excel 2019 Beginner Tutorial (6JnEYGxxd8w)\n",
      "How to reset excel 2016 back to default settings (91lpes6BiLc)\n",
      "How to use the SUM function in Microsoft Excel (-u-9f3QrdAQ)\n",
      "How to Pass Excel Assessment Test For Job Applications - Step by Step Tutorial with XLSX work files (b-GxQvV9SWg)\n",
      "Using Drawing Tools in Excel 2007, 2010, 2013, 2016, 2019 and Office 365 (J0RrAIsChR4)\n",
      "What Microsoft doesn’t want you to know about Microsoft Office (diwvbVgloSw)\n",
      "Excel Sort Column by Numbers in Ascending/Descending Order (2020) (zmV5qJqq2xw)\n",
      "Excel 2010 Tutorial For Beginners #1 - Overview (Microsoft Excel) (eI_7oc-E3h0)\n",
      "MS Excel - Date Functions Part 1 (lVfChEjnBu8)\n",
      "How to Import PDF to Excel // #shorts (_5nGeEwx9ZI)\n",
      "How to Disable protected view in MS EXCEL or WORD  FIXED (Qyu1xyTyC08)\n",
      "Fix Product Activation Failed - This Copy Of Microsoft Office Is Not Activated (gkkp8GCbYyQ)\n",
      "How to Enable Autosave in Microsoft Excel (5Q8yc_vxhiI)\n",
      "Calculating percentages in Excel 2010, 2013, 2016, 2019, 2021 (oD0QZIGYkkI)\n",
      "Como solucionar el problema de Microsoft Word/Excel  dejo de funcionar | Todas las versiones (lBciOUPnu50)\n",
      "How to Update Office 2016, Office 2019  To Office 365 | Convert Microsoft 2016 To Microsoft 365 (MxnVwHs2aHg)\n",
      "excel for beginners | excel tutorial for beginners | excel tutorial | microsoft excel #learn_excel (e1Ir6iiH_YI)\n",
      "how to Fix Excel Not Responding/ Freezing or Slow / hang issues in Windows 10 (Tovkap9jiq4)\n",
      "Page Layout Tab [Excel] || Complete Use in Hindi || Excel Tutorial for beginners in Hindi (fw0H6Q4IgPY)\n",
      "How to use VLOOKUP in Excel (aJXgqNhRWMM) \n",
      "\n",
      "Channels:\n",
      "  \n",
      "\n",
      "Playlists:\n",
      " MS-Excel (PLWPirh4EWFpEpO6NjjWLbKSCb-wx3hMql)\n",
      "Formation Microsoft EXCEL 365 complète et gratuite (PL8sQnj6qF1Lv6ejdklq25MGfPJFxThMw6)\n",
      "Microsoft Excel 2010 Tutorials ✔ (PLa-kxNntxtsV3tuRfjFhnZRzBHx87DPiV)\n",
      "FREE Excel Course (Basic to Advanced) (PLm8I8moAHiH2kkq0S9XGvIbPODrHzXRp6)\n",
      "Microsoft Excel 2010 (PL6B8144DFA8842F71)\n",
      "Learn Microsoft Excel 2010 advanced course (PLzj7TwUeMQ3h3CdrlW1HftLfBLXNhn8sa)\n",
      "Excel 2010 Tutorials for Beginners (PLjT_MIUPIOA9ySAtvcQw1TJ0GaWKhUuJN)\n",
      "MS Excel 2010 Complete Video Tutorials in Hindi (PLByZsQLGP9dsRNQu83KBLHl0S4bt8xo0i) \n",
      "\n"
     ]
    }
   ],
   "source": [
    "videos_list, channels_list, playlists_list = youtube_search(q='Excel with this A-Z Microsoft Excel Course. Microsoft Excel 2010, 2013, 2016, Excel 2019 and Microsoft/Office 365/2023', max_results=50)"
   ]
  },
  {
   "cell_type": "code",
   "execution_count": null,
   "metadata": {},
   "outputs": [],
   "source": [
    "playlists_list"
   ]
  },
  {
   "cell_type": "code",
   "execution_count": 8,
   "metadata": {},
   "outputs": [],
   "source": [
    "def get_video_details(videoid):\n",
    "    youtube = build(\n",
    "        YOUTUBE_API_SERVICE_NAME, \n",
    "        YOUTUBE_API_VERSION,\n",
    "        developerKey=DEVELOPER_KEY\n",
    "    )\n",
    "\n",
    "    search_response = youtube.videos().list(\n",
    "        part=\"snippet,contentDetails,statistics\",\n",
    "        id=videoid\n",
    "    ).execute()\n",
    "\n",
    "    return search_response"
   ]
  },
  {
   "cell_type": "code",
   "execution_count": 10,
   "metadata": {},
   "outputs": [
    {
     "data": {
      "text/plain": [
       "{'kind': 'youtube#videoListResponse',\n",
       " 'etag': 'HNxn1DjcajpOiFDxcPjh6wHODwM',\n",
       " 'items': [{'kind': 'youtube#video',\n",
       "   'etag': 'rXZ3AE-CZa6V6ZMFEv_MliQsL_8',\n",
       "   'id': 'WrNvDniOUwo',\n",
       "   'snippet': {'publishedAt': '2023-01-20T16:00:31Z',\n",
       "    'channelId': 'UCLLw7jmFsvfIVaUFsLs8mlQ',\n",
       "    'title': 'Top Excel courses for Data Analysts 🧑\\u200d🎓📊',\n",
       "    'description': 'Excel Skills for Business 👉🏼  https://lukeb.co/ExcelBusinessAnalyst\\nExcel Basics for Data Analytics 👉🏼  https://lukeb.co/ExcelBasics\\n\\nCourses for Data Nerds\\n==================================\\n📜 Google Data Analytics Certificate (START HERE) 👉🏼  https://lukeb.co/GoogleCert\\n💿 SQL for Data Science 👉🏼 https://lukeb.co/SQLdataScience\\n🧾 Excel Skills for Business 👉🏼  https://lukeb.co/ExcelBusinessAnalyst\\n🐍 Python for Everybody 👉🏼  https://lukeb.co/PythonForEverybody\\n📊 Data Visualization with Tableau 👉🏼 https://lukeb.co/Tableau_UCDavis\\n🏴\\u200d☠️ Data Science: Foundations using R 👉🏼 https://lukeb.co/RforDataScienceJH\\n➕ Coursera Plus Subscription (7-day free trial) 👉🏼 https://lukeb.co/CourseraPlus\\n👨🏼\\u200d🏫 All courses 👉🏼 https://kit.co/lukebarousse/data-analytics-courses\\n\\nBuild a Portfolio\\n==================================\\n👩🏻\\u200d💻Build portfolio here 👉🏼  http://hostinger.com/luke\\nRebate Code: \"LUKE\" \\nMy Portfolio  👉🏼  https://lukebarousse.tech/\\n\\nBooks for Data Nerds\\n==================================\\n📚 Books I’ve read 👉🏼  https://kit.co/lukebarousse/book-recommendations\\n📗 Data Analyst Must Read 👉🏼 https://geni.us/StorytellingWithData\\n📙 Tableau 👉🏼  https://geni.us/tableau\\n📘 Power BI👉🏼  https://geni.us/powerbi\\n📕 Python 👉🏼 https://geni.us/pythontricks\\n\\nTech for Data Nerds\\n==================================\\n⚙️ Tech I use 👉🏼 https://kit.co/lukebarousse/computer-accessories\\n🪟Windows on a Mac (Parallels VM) 👉🏼 https://lukeb.co/ParallelsFreeTrial\\n👨🏼\\u200d💻 M1 Macbook Air (Mac of choice) 👉🏼 https://geni.us/M1macAir8GB\\n💻 Dell XPS 13 (PC of choice) 👉🏼  https://geni.us/DellNewXPS13\\n💻 Asus Vivo Book (Lowest Cost PC) 👉🏼 https://geni.us/AsusVivoBook15\\n💻Lenovo IdeaPad (Best Value PC)👉🏼  https://geni.us/LenovoIdeaPad15\\n\\nSocial Media / Contact Me\\n======================\\n👾 r/DataNerd 👉🏼 https://www.reddit.com/r/DataNerd/\\n🌄 Instagram: https://www.instagram.com/lukebarousse/\\n⏰ TikTok: https://www.tiktok.com/@lukebarousse\\n📘 Facebook: https://www.facebook.com/datavizbyluke\\n🙋🏼\\u200d♂️Newsletter: https://www.lukebarousse.com/\\n\\nAs a member of the Amazon, Coursera, Hostinger, and Parallels Affiliate Programs, I earn a commission from qualifying purchases on the links above.  It costs you nothing but helps me with content creation.\\n\\n#datanerd #dataanalyst #datascience',\n",
       "    'thumbnails': {'default': {'url': 'https://i.ytimg.com/vi/WrNvDniOUwo/default.jpg',\n",
       "      'width': 120,\n",
       "      'height': 90},\n",
       "     'medium': {'url': 'https://i.ytimg.com/vi/WrNvDniOUwo/mqdefault.jpg',\n",
       "      'width': 320,\n",
       "      'height': 180},\n",
       "     'high': {'url': 'https://i.ytimg.com/vi/WrNvDniOUwo/hqdefault.jpg',\n",
       "      'width': 480,\n",
       "      'height': 360},\n",
       "     'standard': {'url': 'https://i.ytimg.com/vi/WrNvDniOUwo/sddefault.jpg',\n",
       "      'width': 640,\n",
       "      'height': 480},\n",
       "     'maxres': {'url': 'https://i.ytimg.com/vi/WrNvDniOUwo/maxresdefault.jpg',\n",
       "      'width': 1280,\n",
       "      'height': 720}},\n",
       "    'channelTitle': 'Luke Barousse',\n",
       "    'categoryId': '26',\n",
       "    'liveBroadcastContent': 'none',\n",
       "    'localized': {'title': 'Top Excel courses for Data Analysts 🧑\\u200d🎓📊',\n",
       "     'description': 'Excel Skills for Business 👉🏼  https://lukeb.co/ExcelBusinessAnalyst\\nExcel Basics for Data Analytics 👉🏼  https://lukeb.co/ExcelBasics\\n\\nCourses for Data Nerds\\n==================================\\n📜 Google Data Analytics Certificate (START HERE) 👉🏼  https://lukeb.co/GoogleCert\\n💿 SQL for Data Science 👉🏼 https://lukeb.co/SQLdataScience\\n🧾 Excel Skills for Business 👉🏼  https://lukeb.co/ExcelBusinessAnalyst\\n🐍 Python for Everybody 👉🏼  https://lukeb.co/PythonForEverybody\\n📊 Data Visualization with Tableau 👉🏼 https://lukeb.co/Tableau_UCDavis\\n🏴\\u200d☠️ Data Science: Foundations using R 👉🏼 https://lukeb.co/RforDataScienceJH\\n➕ Coursera Plus Subscription (7-day free trial) 👉🏼 https://lukeb.co/CourseraPlus\\n👨🏼\\u200d🏫 All courses 👉🏼 https://kit.co/lukebarousse/data-analytics-courses\\n\\nBuild a Portfolio\\n==================================\\n👩🏻\\u200d💻Build portfolio here 👉🏼  http://hostinger.com/luke\\nRebate Code: \"LUKE\" \\nMy Portfolio  👉🏼  https://lukebarousse.tech/\\n\\nBooks for Data Nerds\\n==================================\\n📚 Books I’ve read 👉🏼  https://kit.co/lukebarousse/book-recommendations\\n📗 Data Analyst Must Read 👉🏼 https://geni.us/StorytellingWithData\\n📙 Tableau 👉🏼  https://geni.us/tableau\\n📘 Power BI👉🏼  https://geni.us/powerbi\\n📕 Python 👉🏼 https://geni.us/pythontricks\\n\\nTech for Data Nerds\\n==================================\\n⚙️ Tech I use 👉🏼 https://kit.co/lukebarousse/computer-accessories\\n🪟Windows on a Mac (Parallels VM) 👉🏼 https://lukeb.co/ParallelsFreeTrial\\n👨🏼\\u200d💻 M1 Macbook Air (Mac of choice) 👉🏼 https://geni.us/M1macAir8GB\\n💻 Dell XPS 13 (PC of choice) 👉🏼  https://geni.us/DellNewXPS13\\n💻 Asus Vivo Book (Lowest Cost PC) 👉🏼 https://geni.us/AsusVivoBook15\\n💻Lenovo IdeaPad (Best Value PC)👉🏼  https://geni.us/LenovoIdeaPad15\\n\\nSocial Media / Contact Me\\n======================\\n👾 r/DataNerd 👉🏼 https://www.reddit.com/r/DataNerd/\\n🌄 Instagram: https://www.instagram.com/lukebarousse/\\n⏰ TikTok: https://www.tiktok.com/@lukebarousse\\n📘 Facebook: https://www.facebook.com/datavizbyluke\\n🙋🏼\\u200d♂️Newsletter: https://www.lukebarousse.com/\\n\\nAs a member of the Amazon, Coursera, Hostinger, and Parallels Affiliate Programs, I earn a commission from qualifying purchases on the links above.  It costs you nothing but helps me with content creation.\\n\\n#datanerd #dataanalyst #datascience'},\n",
       "    'defaultAudioLanguage': 'en-US'},\n",
       "   'contentDetails': {'duration': 'PT41S',\n",
       "    'dimension': '2d',\n",
       "    'definition': 'hd',\n",
       "    'caption': 'false',\n",
       "    'licensedContent': True,\n",
       "    'contentRating': {},\n",
       "    'projection': 'rectangular'},\n",
       "   'statistics': {'viewCount': '42704',\n",
       "    'likeCount': '4460',\n",
       "    'favoriteCount': '0',\n",
       "    'commentCount': '52'}}],\n",
       " 'pageInfo': {'totalResults': 1, 'resultsPerPage': 1}}"
      ]
     },
     "execution_count": 10,
     "metadata": {},
     "output_type": "execute_result"
    }
   ],
   "source": [
    "get_video_details(videoid='WrNvDniOUwo')"
   ]
  },
  {
   "cell_type": "code",
   "execution_count": 9,
   "metadata": {},
   "outputs": [
    {
     "name": "stdout",
     "output_type": "stream",
     "text": [
      "Excel Skills for Business 👉🏼  https://lukeb.co/ExcelBusinessAnalyst\n",
      "Excel Basics for Data Analytics 👉🏼  https://lukeb.co/ExcelBasics\n",
      "\n",
      "Courses for Data Nerds\n",
      "==================================\n",
      "📜 Google Data Analytics Certificate (START HERE) 👉🏼  https://lukeb.co/GoogleCert\n",
      "💿 SQL for Data Science 👉🏼 https://lukeb.co/SQLdataScience\n",
      "🧾 Excel Skills for Business 👉🏼  https://lukeb.co/ExcelBusinessAnalyst\n",
      "🐍 Python for Everybody 👉🏼  https://lukeb.co/PythonForEverybody\n",
      "📊 Data Visualization with Tableau 👉🏼 https://lukeb.co/Tableau_UCDavis\n",
      "🏴‍☠️ Data Science: Foundations using R 👉🏼 https://lukeb.co/RforDataScienceJH\n",
      "➕ Coursera Plus Subscription (7-day free trial) 👉🏼 https://lukeb.co/CourseraPlus\n",
      "👨🏼‍🏫 All courses 👉🏼 https://kit.co/lukebarousse/data-analytics-courses\n",
      "\n",
      "Build a Portfolio\n",
      "==================================\n",
      "👩🏻‍💻Build portfolio here 👉🏼  http://hostinger.com/luke\n",
      "Rebate Code: \"LUKE\" \n",
      "My Portfolio  👉🏼  https://lukebarousse.tech/\n",
      "\n",
      "Books for Data Nerds\n",
      "==================================\n",
      "📚 Books I’ve read 👉🏼  https://kit.co/lukebarousse/book-recommendations\n",
      "📗 Data Analyst Must Read 👉🏼 https://geni.us/StorytellingWithData\n",
      "📙 Tableau 👉🏼  https://geni.us/tableau\n",
      "📘 Power BI👉🏼  https://geni.us/powerbi\n",
      "📕 Python 👉🏼 https://geni.us/pythontricks\n",
      "\n",
      "Tech for Data Nerds\n",
      "==================================\n",
      "⚙️ Tech I use 👉🏼 https://kit.co/lukebarousse/computer-accessories\n",
      "🪟Windows on a Mac (Parallels VM) 👉🏼 https://lukeb.co/ParallelsFreeTrial\n",
      "👨🏼‍💻 M1 Macbook Air (Mac of choice) 👉🏼 https://geni.us/M1macAir8GB\n",
      "💻 Dell XPS 13 (PC of choice) 👉🏼  https://geni.us/DellNewXPS13\n",
      "💻 Asus Vivo Book (Lowest Cost PC) 👉🏼 https://geni.us/AsusVivoBook15\n",
      "💻Lenovo IdeaPad (Best Value PC)👉🏼  https://geni.us/LenovoIdeaPad15\n",
      "\n",
      "Social Media / Contact Me\n",
      "======================\n",
      "👾 r/DataNerd 👉🏼 https://www.reddit.com/r/DataNerd/\n",
      "🌄 Instagram: https://www.instagram.com/lukebarousse/\n",
      "⏰ TikTok: https://www.tiktok.com/@lukebarousse\n",
      "📘 Facebook: https://www.facebook.com/datavizbyluke\n",
      "🙋🏼‍♂️Newsletter: https://www.lukebarousse.com/\n",
      "\n",
      "As a member of the Amazon, Coursera, Hostinger, and Parallels Affiliate Programs, I earn a commission from qualifying purchases on the links above.  It costs you nothing but helps me with content creation.\n",
      "\n",
      "#datanerd #dataanalyst #datascience\n"
     ]
    }
   ],
   "source": [
    "for i in get_video_details(videoid=\"WrNvDniOUwo\")['items']:\n",
    "    \n",
    "    print(i['snippet']['description'])"
   ]
  },
  {
   "cell_type": "code",
   "execution_count": null,
   "metadata": {},
   "outputs": [],
   "source": [
    "from youtube_transcript_api import YouTubeTranscriptApi\n",
    "\n",
    "YouTubeTranscriptApi.get_transcript(\"Vl0H-qTclOg\", preserve_formatting=True)"
   ]
  },
  {
   "cell_type": "code",
   "execution_count": null,
   "metadata": {},
   "outputs": [],
   "source": [
    "for item in YouTubeTranscriptApi.get_transcript(\"Vl0H-qTclOg\", preserve_formatting=True):\n",
    "    print(item['text'])"
   ]
  },
  {
   "cell_type": "code",
   "execution_count": null,
   "metadata": {},
   "outputs": [],
   "source": [
    "for item in YouTubeTranscriptApi.get_transcript(\"DXOq1xiIaF0\", preserve_formatting=True):\n",
    "    print(item['text'])"
   ]
  }
 ],
 "metadata": {
  "kernelspec": {
   "display_name": "online_courses_env",
   "language": "python",
   "name": "python3"
  },
  "language_info": {
   "codemirror_mode": {
    "name": "ipython",
    "version": 3
   },
   "file_extension": ".py",
   "mimetype": "text/x-python",
   "name": "python",
   "nbconvert_exporter": "python",
   "pygments_lexer": "ipython3",
   "version": "3.9.16"
  },
  "orig_nbformat": 4
 },
 "nbformat": 4,
 "nbformat_minor": 2
}
