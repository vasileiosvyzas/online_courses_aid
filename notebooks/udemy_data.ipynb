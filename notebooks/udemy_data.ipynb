{
 "cells": [
  {
   "cell_type": "code",
   "execution_count": null,
   "metadata": {},
   "outputs": [],
   "source": [
    "import requests\n",
    "import os\n",
    "import json\n",
    "import time\n",
    "import json\n",
    "import pandas as pd\n",
    "\n",
    "from typing import Dict, List\n",
    "from requests.auth import HTTPBasicAuth\n",
    "from requests.sessions import Session\n",
    "from datetime import datetime\n",
    "from bs4 import BeautifulSoup\n",
    "from dotenv import load_dotenv, find_dotenv\n",
    "from tenacity import retry, wait_exponential"
   ]
  },
  {
   "cell_type": "code",
   "execution_count": null,
   "metadata": {},
   "outputs": [],
   "source": [
    "# find .env automagically by walking up directories until it's found\n",
    "dotenv_path = find_dotenv()\n",
    "\n",
    "# load up the entries as environment variables\n",
    "load_dotenv(dotenv_path)\n",
    "\n",
    "CLIENT_ID = os.environ.get(\"UDEMY_CLIENT_ID\")\n",
    "CLIENT_SECRET = os.environ.get(\"UDEMY_CLIENT_SECRET\")"
   ]
  },
  {
   "cell_type": "code",
   "execution_count": null,
   "metadata": {},
   "outputs": [],
   "source": [
    "CLIENT_ID"
   ]
  },
  {
   "attachments": {},
   "cell_type": "markdown",
   "metadata": {},
   "source": [
    "# Helper functions"
   ]
  },
  {
   "cell_type": "code",
   "execution_count": null,
   "metadata": {},
   "outputs": [],
   "source": [
    "@retry(wait=wait_exponential(multiplier=1, min=4, max=10))\n",
    "def request_data(url, current_session) -> Dict: \n",
    "    try:\n",
    "        response = current_session.get(url, auth=HTTPBasicAuth(CLIENT_ID, CLIENT_SECRET), timeout=30)\n",
    "\n",
    "        response.raise_for_status()\n",
    "        return response.json()\n",
    "    except requests.exceptions.HTTPError as errh:\n",
    "        print(errh)\n",
    "        raise\n",
    "    except requests.exceptions.ConnectionError as errc:\n",
    "        print(errc)\n",
    "        raise\n",
    "    except requests.exceptions.Timeout as errt:\n",
    "        print(errt)\n",
    "        raise\n",
    "    except requests.exceptions.RequestException as err:\n",
    "        print(err)\n",
    "        raise"
   ]
  },
  {
   "cell_type": "code",
   "execution_count": null,
   "metadata": {},
   "outputs": [],
   "source": [
    "courses_list_endpoint = 'https://www.udemy.com/api-2.0/courses/?page_size=6'\n",
    "session = requests.Session()\n",
    "\n",
    "test = session.get()"
   ]
  },
  {
   "cell_type": "code",
   "execution_count": null,
   "metadata": {},
   "outputs": [],
   "source": [
    "def write_data_to_json_on_disk(courses: List, file_location: str) -> None:\n",
    "    with open(file_location, 'w') as output_file:\n",
    "        json.dump(courses, output_file)"
   ]
  },
  {
   "cell_type": "code",
   "execution_count": null,
   "metadata": {},
   "outputs": [],
   "source": [
    "def write_data_to_disk(data: List, file_location: str) -> None:\n",
    "    if os.path.exists(file_location):\n",
    "        print(f'File {file_location} exists on disk')\n",
    "        with open(file_location, 'r') as f:\n",
    "            print('Read file from disk')\n",
    "            existing_data = json.load(f)\n",
    "            existing_data.extend(data)\n",
    "        \n",
    "        with open(file_location, 'w') as output_file:\n",
    "            print('Writing new data on disk')\n",
    "            json.dump(existing_data, output_file)  \n",
    "        \n",
    "    else:\n",
    "        print(f\"File {file_location} doesn't exist. Writing the data on disk...\")\n",
    "        with open(file_location, 'w') as output_file:\n",
    "            json.dump(data, output_file)"
   ]
  },
  {
   "attachments": {},
   "cell_type": "markdown",
   "metadata": {},
   "source": [
    "# Extract which data I need from the courses"
   ]
  },
  {
   "cell_type": "code",
   "execution_count": null,
   "metadata": {},
   "outputs": [],
   "source": [
    "def get_courses_list():\n",
    "    \"\"\"Calls the courses endpoint, gets all the pages with the courses and writes it on disk\"\"\"\n",
    "    session = requests.Session()\n",
    "\n",
    "    courses_list_endpoint = 'https://www.udemy.com/api-2.0/courses/?page_size=6'\n",
    "\n",
    "    # get the list of courses available on Udemy\n",
    "    response = request_data(courses_list_endpoint, session)\n",
    "    print(response)\n",
    "    \n",
    "    courses_list = response['results']\n",
    "    i = 0\n",
    "    while response['next'] is not None:\n",
    "        print(response['next'])\n",
    "        time.sleep(10)\n",
    "        response = request_data(response['next'], session)\n",
    "        courses_list.extend(response['results'])\n",
    "        \n",
    "        print(f'i = {i}')\n",
    "        if i == 20:\n",
    "            break\n",
    "        else:\n",
    "            i+=1\n",
    "        \n",
    "    # write first set of results on disk\n",
    "    file_name = f'courses_list_{str(datetime.now().date())}.json'\n",
    "    file_location = os.path.join(os.path.abspath(os.path.join(os.getcwd(), os.pardir)), 'data/raw', file_name)\n",
    "    \n",
    "    print(f\"Writing the results of the courses list in {file_location}\")\n",
    "    write_data_to_json_on_disk(courses=courses_list, file_location=file_location)\n",
    "    \n",
    "    return courses_list"
   ]
  },
  {
   "cell_type": "code",
   "execution_count": null,
   "metadata": {},
   "outputs": [],
   "source": [
    "def get_course_details(course_id: str) -> Dict:\n",
    "    session = requests.Session()\n",
    "    course_endpoint = f\"https://www.udemy.com/api-2.0/courses/{course_id}/?fields[course]=title,headline,description,url,visible_instructors,primary_category,primary_subcategory,status_label\"\n",
    "    print(course_endpoint)\n",
    "    \"\"\"Gets a course id, calls the course details endpoint and returns the dictionary with the course details for this specific course\"\"\"\n",
    "    single_courses_details = request_data(course_endpoint, session)\n",
    "    return single_courses_details"
   ]
  },
  {
   "cell_type": "code",
   "execution_count": null,
   "metadata": {},
   "outputs": [],
   "source": [
    "def get_course_curriculum(course_id: str):\n",
    "    \"\"\"Gets a course id and returns the curriculum for this course\n",
    "\n",
    "    Args:\n",
    "        course_id (str): _description_\n",
    "\n",
    "    Returns:\n",
    "        _type_: _description_\n",
    "    \"\"\"\n",
    "    session = requests.Session()\n",
    "    course_curriculum_endpoint = f'https://www.udemy.com/api-2.0/courses/{course_id}/public-curriculum-items/?page_size=6'\n",
    "    response = request_data(course_curriculum_endpoint, session)\n",
    "    print(response)\n",
    "    \n",
    "    courses_curriculum = response['results']\n",
    "    \n",
    "    while response['next'] is not None:\n",
    "        print(response['next'])\n",
    "        time.sleep(2)\n",
    "        response = request_data(response['next'], session)\n",
    "        courses_curriculum.extend(response['results'])\n",
    "    \n",
    "    return courses_curriculum"
   ]
  },
  {
   "attachments": {},
   "cell_type": "markdown",
   "metadata": {},
   "source": [
    "# Calling everything"
   ]
  },
  {
   "cell_type": "code",
   "execution_count": null,
   "metadata": {},
   "outputs": [],
   "source": [
    "with open('../data/raw/courses_list_2023-06-27.json', 'r') as f:\n",
    "    all_courses = json.load(f)"
   ]
  },
  {
   "cell_type": "code",
   "execution_count": null,
   "metadata": {},
   "outputs": [],
   "source": [
    "# get the list of courses from the udemy API\n",
    "all_courses = get_courses_list()"
   ]
  },
  {
   "cell_type": "code",
   "execution_count": null,
   "metadata": {},
   "outputs": [],
   "source": [
    "course_details_list = []\n",
    "\n",
    "for course in all_courses:\n",
    "    course_id = course['id']\n",
    "    \n",
    "    print(f'Getting the course details for course: {course_id}')\n",
    "    course_details = get_course_details(course_id=course_id)\n",
    "    course_details_list.append(course_details)\n",
    "    \n",
    "file_name = f'courses_details_{str(datetime.now().date())}.json'\n",
    "file_location = os.path.join(os.path.abspath(os.path.join(os.getcwd(), os.pardir)), 'data/raw', file_name)\n",
    "write_data_to_json_on_disk(courses=course_details_list, file_location=file_location)"
   ]
  },
  {
   "cell_type": "code",
   "execution_count": null,
   "metadata": {},
   "outputs": [],
   "source": [
    "# get the details and the public curriculum for each course\n",
    "course_curriculum_list = []\n",
    "\n",
    "for course in all_courses:\n",
    "    course_id = course['id']\n",
    "    time.sleep(5)\n",
    "    \n",
    "    print(f'Getting the curriculum for course: {course_id}')\n",
    "    course_curriculum = get_course_curriculum(course_id=course_id)\n",
    "    public_curriculum_items = {'course_id': course_id, 'curriculum': course_curriculum}\n",
    "    course_curriculum_list.append(public_curriculum_items)\n",
    "    \n",
    "file_name = f'courses_curriculum_{str(datetime.now().date())}.json'\n",
    "file_location = os.path.join(os.path.abspath(os.path.join(os.getcwd(), os.pardir)), 'data/raw', file_name)\n",
    "write_data_to_json_on_disk(courses=course_details_list, file_location=file_location)"
   ]
  },
  {
   "cell_type": "code",
   "execution_count": null,
   "metadata": {},
   "outputs": [],
   "source": [
    "write_data_to_json_on_disk(courses=course_curriculum_list, file_location=file_location)"
   ]
  },
  {
   "cell_type": "code",
   "execution_count": null,
   "metadata": {},
   "outputs": [],
   "source": [
    "len(course_curriculum_list)"
   ]
  },
  {
   "cell_type": "code",
   "execution_count": null,
   "metadata": {},
   "outputs": [],
   "source": [
    "course_details_list"
   ]
  },
  {
   "cell_type": "code",
   "execution_count": null,
   "metadata": {},
   "outputs": [],
   "source": [
    "len(course_details_list)"
   ]
  },
  {
   "cell_type": "code",
   "execution_count": null,
   "metadata": {},
   "outputs": [],
   "source": []
  },
  {
   "cell_type": "code",
   "execution_count": null,
   "metadata": {},
   "outputs": [],
   "source": [
    "title = []\n",
    "url = []\n",
    "id = []\n",
    "headline = []\n",
    "description = []\n",
    "primary_category = []\n",
    "primary_subcategory = []\n",
    "\n",
    "for course in course_details_list:\n",
    "    title.append(course['title'])\n",
    "    url.append(course['url'])\n",
    "    id.append(course['id'])\n",
    "    headline.append(course['headline'])\n",
    "    description.append(course['description'])\n",
    "    primary_category.append(course['primary_category']['title_cleaned'])\n",
    "    primary_subcategory.append(course['primary_subcategory']['title_cleaned'])\n",
    "\n",
    "    \n",
    "d = {'title': title, 'url': url, 'id': id, 'headline': headline, 'description': description, 'primary_category': primary_category, 'primary_subcategory': primary_subcategory}\n",
    "df_courses = pd.DataFrame.from_dict(d, orient='columns')"
   ]
  },
  {
   "cell_type": "code",
   "execution_count": null,
   "metadata": {},
   "outputs": [],
   "source": [
    "df_courses.head()"
   ]
  },
  {
   "cell_type": "code",
   "execution_count": null,
   "metadata": {},
   "outputs": [],
   "source": [
    "df_courses.shape"
   ]
  },
  {
   "attachments": {},
   "cell_type": "markdown",
   "metadata": {},
   "source": [
    "# Remove html tags from description"
   ]
  },
  {
   "cell_type": "code",
   "execution_count": null,
   "metadata": {},
   "outputs": [],
   "source": [
    "def remove_html_tags(text):\n",
    "    soup = BeautifulSoup(text, 'html.parser')\n",
    "    clean_text = soup.get_text()\n",
    "    return clean_text"
   ]
  },
  {
   "cell_type": "code",
   "execution_count": null,
   "metadata": {},
   "outputs": [],
   "source": [
    "df_courses['description_cleaned'] = df_courses['description'].apply(remove_html_tags)"
   ]
  }
 ],
 "metadata": {
  "kernelspec": {
   "display_name": "online_courses_env",
   "language": "python",
   "name": "python3"
  },
  "language_info": {
   "codemirror_mode": {
    "name": "ipython",
    "version": 3
   },
   "file_extension": ".py",
   "mimetype": "text/x-python",
   "name": "python",
   "nbconvert_exporter": "python",
   "pygments_lexer": "ipython3",
   "version": "3.9.16"
  },
  "orig_nbformat": 4
 },
 "nbformat": 4,
 "nbformat_minor": 2
}
