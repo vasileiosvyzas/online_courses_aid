{
 "cells": [
  {
   "cell_type": "code",
   "execution_count": 1,
   "metadata": {},
   "outputs": [],
   "source": [
    "import os\n",
    "from googleapiclient.discovery import build\n",
    "from googleapiclient.errors import HttpError\n",
    "from dotenv import load_dotenv, find_dotenv\n",
    "import google_auth_oauthlib.flow\n",
    "import googleapiclient.discovery\n",
    "import googleapiclient.errors\n",
    "\n",
    "from googleapiclient.http import MediaIoBaseDownload"
   ]
  },
  {
   "cell_type": "code",
   "execution_count": 2,
   "metadata": {},
   "outputs": [],
   "source": [
    "# find .env automagically by walking up directories until it's found\n",
    "dotenv_path = find_dotenv()\n",
    "\n",
    "# load up the entries as environment variables\n",
    "load_dotenv(dotenv_path)\n",
    "\n",
    "DEVELOPER_KEY = os.environ.get(\"YOUTUBE_DEVELOPER_KEY\")\n",
    "YOUTUBE_API_SERVICE_NAME = 'youtube'\n",
    "YOUTUBE_API_VERSION = 'v3'"
   ]
  },
  {
   "cell_type": "code",
   "execution_count": 23,
   "metadata": {},
   "outputs": [],
   "source": [
    "def youtube_search(q, max_results):\n",
    "  youtube = build(\n",
    "    YOUTUBE_API_SERVICE_NAME, \n",
    "    YOUTUBE_API_VERSION, \n",
    "    developerKey=DEVELOPER_KEY)\n",
    "\n",
    "  # Call the search.list method to retrieve results matching the specified query term.\n",
    "  search_response = youtube.search().list(\n",
    "    q=q,\n",
    "    part='id,snippet',\n",
    "    maxResults=max_results,\n",
    "    # type=item_type\n",
    "  ).execute()\n",
    "\n",
    "  videos = []\n",
    "  channels = []\n",
    "  playlists = []\n",
    "  video_details = []\n",
    "\n",
    "  # Add each result to the appropriate list, and then display the lists of\n",
    "  # matching videos, channels, and playlists.\n",
    "  for search_result in search_response.get('items', []):\n",
    "    print(search_result)\n",
    "    if search_result['id']['kind'] == 'youtube#video':\n",
    "      video_details.append(\n",
    "              {\n",
    "                  'title': search_result['snippet']['title'], \n",
    "                  'video': search_result['id']['videoId'], \n",
    "                  'description': search_result['snippet']['description']\n",
    "              }\n",
    "              )\n",
    "    # if search_result['id']['kind'] == 'youtube#video':\n",
    "    #   videos.append('%s (%s)' % (search_result['snippet']['title'],\n",
    "    #                              search_result['id']['videoId']))\n",
    "    # elif search_result['id']['kind'] == 'youtube#channel':\n",
    "    #   channels.append('%s (%s)' % (search_result['snippet']['title'],\n",
    "    #                                search_result['id']['channelId']))\n",
    "    # elif search_result['id']['kind'] == 'youtube#playlist':\n",
    "    #   playlists.append('%s (%s)' % (search_result['snippet']['title'],\n",
    "    #                                 search_result['id']['playlistId']))\n",
    "\n",
    "  # print('Videos:\\n', '\\n'.join(videos), '\\n')\n",
    "  # print('Channels:\\n', '\\n'.join(channels), '\\n')\n",
    "  # print('Playlists:\\n', '\\n'.join(playlists), '\\n')\n",
    "  print(video_details)\n",
    "\n",
    "  # return videos, channels, playlists"
   ]
  },
  {
   "cell_type": "code",
   "execution_count": 24,
   "metadata": {},
   "outputs": [
    {
     "name": "stdout",
     "output_type": "stream",
     "text": [
      "{'kind': 'youtube#searchResult', 'etag': 'mW7n8fOA42yLFCGaxM5AvhYa6NM', 'id': {'kind': 'youtube#video', 'videoId': '_g5roKHj95o'}, 'snippet': {'publishedAt': '2023-02-26T18:45:01Z', 'channelId': 'UCkHdBeQ4DuvBXTahMYZVlMA', 'title': 'Master Data Analysis on Excel in Just 10 Minutes', 'description': 'AD: Sign up to enroll for a 7-day free trial with Coursera now!', 'thumbnails': {'default': {'url': 'https://i.ytimg.com/vi/_g5roKHj95o/default.jpg', 'width': 120, 'height': 90}, 'medium': {'url': 'https://i.ytimg.com/vi/_g5roKHj95o/mqdefault.jpg', 'width': 320, 'height': 180}, 'high': {'url': 'https://i.ytimg.com/vi/_g5roKHj95o/hqdefault.jpg', 'width': 480, 'height': 360}}, 'channelTitle': 'Kenji Explains', 'liveBroadcastContent': 'none', 'publishTime': '2023-02-26T18:45:01Z'}}\n",
      "{'kind': 'youtube#searchResult', 'etag': 'v6IFXzOOBKTARgVR22d6J3XTluQ', 'id': {'kind': 'youtube#video', 'videoId': 'WrNvDniOUwo'}, 'snippet': {'publishedAt': '2023-01-20T16:00:31Z', 'channelId': 'UCLLw7jmFsvfIVaUFsLs8mlQ', 'title': 'Top Excel courses for Data Analysts 🧑\\u200d🎓📊', 'description': 'Excel Skills for Business https://lukeb.co/ExcelBusinessAnalyst Excel Basics for Data Analytics ...', 'thumbnails': {'default': {'url': 'https://i.ytimg.com/vi/WrNvDniOUwo/default.jpg', 'width': 120, 'height': 90}, 'medium': {'url': 'https://i.ytimg.com/vi/WrNvDniOUwo/mqdefault.jpg', 'width': 320, 'height': 180}, 'high': {'url': 'https://i.ytimg.com/vi/WrNvDniOUwo/hqdefault.jpg', 'width': 480, 'height': 360}}, 'channelTitle': 'Luke Barousse', 'liveBroadcastContent': 'none', 'publishTime': '2023-01-20T16:00:31Z'}}\n",
      "{'kind': 'youtube#searchResult', 'etag': 'tfQ8B_XgEoUK7WtiLIU4p2t_gjQ', 'id': {'kind': 'youtube#playlist', 'playlistId': 'PLUaB-1hjhk8Hyd5NiPQ9CND82vNodlFF5'}, 'snippet': {'publishedAt': '2021-12-13T00:37:21Z', 'channelId': 'UC7cs8q-gJRlGwj4A8OmCmXg', 'title': 'Excel Tutorials for Data Analysts', 'description': '', 'thumbnails': {'default': {'url': 'https://i.ytimg.com/vi/lH7HfwUFnYA/default.jpg', 'width': 120, 'height': 90}, 'medium': {'url': 'https://i.ytimg.com/vi/lH7HfwUFnYA/mqdefault.jpg', 'width': 320, 'height': 180}, 'high': {'url': 'https://i.ytimg.com/vi/lH7HfwUFnYA/hqdefault.jpg', 'width': 480, 'height': 360}}, 'channelTitle': 'Alex The Analyst', 'liveBroadcastContent': 'none', 'publishTime': '2021-12-13T00:37:21Z'}}\n"
     ]
    },
    {
     "ename": "KeyError",
     "evalue": "'videoId'",
     "output_type": "error",
     "traceback": [
      "\u001b[0;31m---------------------------------------------------------------------------\u001b[0m",
      "\u001b[0;31mKeyError\u001b[0m                                  Traceback (most recent call last)",
      "Cell \u001b[0;32mIn[24], line 1\u001b[0m\n\u001b[0;32m----> 1\u001b[0m videos_list \u001b[39m=\u001b[39m youtube_search(q\u001b[39m=\u001b[39;49m\u001b[39m'\u001b[39;49m\u001b[39mMaster 75+ MS Excel formulas and learn data analysis with a top Microsoft Excel & business intelligence instructor · \u001b[39;49m\u001b[39m'\u001b[39;49m, max_results\u001b[39m=\u001b[39;49m\u001b[39m50\u001b[39;49m)\n",
      "Cell \u001b[0;32mIn[23], line 27\u001b[0m, in \u001b[0;36myoutube_search\u001b[0;34m(q, max_results)\u001b[0m\n\u001b[1;32m     22\u001b[0m \u001b[39mfor\u001b[39;00m search_result \u001b[39min\u001b[39;00m search_response\u001b[39m.\u001b[39mget(\u001b[39m'\u001b[39m\u001b[39mitems\u001b[39m\u001b[39m'\u001b[39m, []):\n\u001b[1;32m     23\u001b[0m   \u001b[39mprint\u001b[39m(search_result)\n\u001b[1;32m     24\u001b[0m   video_details\u001b[39m.\u001b[39mappend(\n\u001b[1;32m     25\u001b[0m           {\n\u001b[1;32m     26\u001b[0m               \u001b[39m'\u001b[39m\u001b[39mtitle\u001b[39m\u001b[39m'\u001b[39m: search_result[\u001b[39m'\u001b[39m\u001b[39msnippet\u001b[39m\u001b[39m'\u001b[39m][\u001b[39m'\u001b[39m\u001b[39mtitle\u001b[39m\u001b[39m'\u001b[39m], \n\u001b[0;32m---> 27\u001b[0m               \u001b[39m'\u001b[39m\u001b[39mvideo\u001b[39m\u001b[39m'\u001b[39m: search_result[\u001b[39m'\u001b[39;49m\u001b[39mid\u001b[39;49m\u001b[39m'\u001b[39;49m][\u001b[39m'\u001b[39;49m\u001b[39mvideoId\u001b[39;49m\u001b[39m'\u001b[39;49m], \n\u001b[1;32m     28\u001b[0m               \u001b[39m'\u001b[39m\u001b[39mdescription\u001b[39m\u001b[39m'\u001b[39m: search_result[\u001b[39m'\u001b[39m\u001b[39msnippet\u001b[39m\u001b[39m'\u001b[39m][\u001b[39m'\u001b[39m\u001b[39mdescription\u001b[39m\u001b[39m'\u001b[39m]\n\u001b[1;32m     29\u001b[0m           }\n\u001b[1;32m     30\u001b[0m           )\n\u001b[1;32m     31\u001b[0m   \u001b[39m# if search_result['id']['kind'] == 'youtube#video':\u001b[39;00m\n\u001b[1;32m     32\u001b[0m   \u001b[39m#   videos.append('%s (%s)' % (search_result['snippet']['title'],\u001b[39;00m\n\u001b[1;32m     33\u001b[0m   \u001b[39m#                              search_result['id']['videoId']))\u001b[39;00m\n\u001b[0;32m   (...)\u001b[0m\n\u001b[1;32m     42\u001b[0m \u001b[39m# print('Channels:\\n', '\\n'.join(channels), '\\n')\u001b[39;00m\n\u001b[1;32m     43\u001b[0m \u001b[39m# print('Playlists:\\n', '\\n'.join(playlists), '\\n')\u001b[39;00m\n\u001b[1;32m     44\u001b[0m \u001b[39mprint\u001b[39m(video_details)\n",
      "\u001b[0;31mKeyError\u001b[0m: 'videoId'"
     ]
    }
   ],
   "source": [
    "videos_list = youtube_search(q='Master 75+ MS Excel formulas and learn data analysis with a top Microsoft Excel & business intelligence instructor · ', max_results=50)"
   ]
  },
  {
   "cell_type": "code",
   "execution_count": 15,
   "metadata": {},
   "outputs": [
    {
     "name": "stdout",
     "output_type": "stream",
     "text": [
      "Videos:\n",
      " Get Microsoft Office for free (H3ix2t4I7UU)\n",
      "Microsoft Excel Tutorial -  Beginners Level 1 (k1VUZEVuDJ8)\n",
      "🆓 How to Get Microsoft Excel for FREE (download &amp; web versions) (HzhduMsfOHw)\n",
      "Excel Tutorial for Beginners | Excel Made Easy (0tdlR1rBwkM)\n",
      "Advanced Excel Full Course 2023 | Excel Tutorial For Beginners | Excel Training | Simplilearn (8Ob8Hre_SnI)\n",
      "Microsoft Excel Tutorial (2021/365):  4.5+ Hours of Getting Started in Microsoft Excel 2021 (Lvk45S3j7Y8)\n",
      "Learn Microsoft Excel Tutorial For Beginners in UNDER 45 MINUTES! (Microsoft Office 365 Excel) (djzmmeQM-ew)\n",
      "Microsoft Excel Tutorial for Beginners - Full Course (Vl0H-qTclOg)\n",
      "Excel 2021/365 Beginners &amp; Intermediate Training: 10-Hour Excel Tutorial Class (fODnNDNMXiI)\n",
      "Microsoft Excel Tutorial: 3-Hour MS Excel 2019 Course for Beginners! (ZNGqeCcTu0Q)\n",
      "How to Get Microsoft Office for Free (DuQyKM7_V-Y)\n",
      "How to get Microsoft Excel for FREE!!! (sLYI4u-Cb8c)\n",
      "The Beginner&#39;s Guide to Excel - Excel Basics Tutorial (rwbho0CgEAE)\n",
      "Microsoft Excel Tutorial for Beginners | Excel Training | FREE Online Excel course (ormRboQsB-I)\n",
      "Microsoft Excel 2021/365 Tutorial: 3.5+ Hours of Advanced Excel Training Course (PlPgYOFJROI)\n",
      "Excel 2021 | MS-OFFICE 2021 Download and Install |  MS-OFFICE Latest Version  2023 (0mlcBZA_tCw)\n",
      "How to Update Microsoft Office, Word, Excel, PowerPoint (Free) (PREuEk_CFIw)\n",
      "How to Update Microsoft Excel | Microsoft Excel Tutorial | Microsoft 365 (VKiZ51hpzno)\n",
      "Excel Tutorial | Microsoft Excel Tutorial | Excel Training | Intellipaat (27dxBp0EgCc)\n",
      "Advanced Excel Full Course 2022 | 🔥Advanced Excel Functions | MS Excel 19 Training | Simplilearn (RkQl2wVpQAo)\n",
      "Flash Fill- Full Name- Excel tips &amp; Tricks from @todfodeducation (4zz4WkhCwKY)\n",
      "Microsoft Office Tutorial for Beginners: Learn Excel, PowerPoint, Word &amp; Outlook 12 HOURS (IUAq9r5B9Go)\n",
      "Excel 2019 Beginner Tutorial (6JnEYGxxd8w)\n",
      "How to reset excel 2016 back to default settings (91lpes6BiLc)\n",
      "How to use the SUM function in Microsoft Excel (-u-9f3QrdAQ)\n",
      "How to Pass Excel Assessment Test For Job Applications - Step by Step Tutorial with XLSX work files (b-GxQvV9SWg)\n",
      "Using Drawing Tools in Excel 2007, 2010, 2013, 2016, 2019 and Office 365 (J0RrAIsChR4)\n",
      "What Microsoft doesn’t want you to know about Microsoft Office (diwvbVgloSw)\n",
      "Excel Sort Column by Numbers in Ascending/Descending Order (2020) (zmV5qJqq2xw)\n",
      "Excel 2010 Tutorial For Beginners #1 - Overview (Microsoft Excel) (eI_7oc-E3h0)\n",
      "MS Excel - Date Functions Part 1 (lVfChEjnBu8)\n",
      "How to Import PDF to Excel // #shorts (_5nGeEwx9ZI)\n",
      "How to Disable protected view in MS EXCEL or WORD  FIXED (Qyu1xyTyC08)\n",
      "Fix Product Activation Failed - This Copy Of Microsoft Office Is Not Activated (gkkp8GCbYyQ)\n",
      "How to Enable Autosave in Microsoft Excel (5Q8yc_vxhiI)\n",
      "Calculating percentages in Excel 2010, 2013, 2016, 2019, 2021 (oD0QZIGYkkI)\n",
      "Como solucionar el problema de Microsoft Word/Excel  dejo de funcionar | Todas las versiones (lBciOUPnu50)\n",
      "How to Update Office 2016, Office 2019  To Office 365 | Convert Microsoft 2016 To Microsoft 365 (MxnVwHs2aHg)\n",
      "excel for beginners | excel tutorial for beginners | excel tutorial | microsoft excel #learn_excel (e1Ir6iiH_YI)\n",
      "how to Fix Excel Not Responding/ Freezing or Slow / hang issues in Windows 10 (Tovkap9jiq4)\n",
      "Page Layout Tab [Excel] || Complete Use in Hindi || Excel Tutorial for beginners in Hindi (fw0H6Q4IgPY)\n",
      "How to use VLOOKUP in Excel (aJXgqNhRWMM) \n",
      "\n",
      "Channels:\n",
      "  \n",
      "\n",
      "Playlists:\n",
      " MS-Excel (PLWPirh4EWFpEpO6NjjWLbKSCb-wx3hMql)\n",
      "Formation Microsoft EXCEL 365 complète et gratuite (PL8sQnj6qF1Lv6ejdklq25MGfPJFxThMw6)\n",
      "Microsoft Excel 2010 Tutorials ✔ (PLa-kxNntxtsV3tuRfjFhnZRzBHx87DPiV)\n",
      "FREE Excel Course (Basic to Advanced) (PLm8I8moAHiH2kkq0S9XGvIbPODrHzXRp6)\n",
      "Microsoft Excel 2010 (PL6B8144DFA8842F71)\n",
      "Learn Microsoft Excel 2010 advanced course (PLzj7TwUeMQ3h3CdrlW1HftLfBLXNhn8sa)\n",
      "Excel 2010 Tutorials for Beginners (PLjT_MIUPIOA9ySAtvcQw1TJ0GaWKhUuJN)\n",
      "MS Excel 2010 Complete Video Tutorials in Hindi (PLByZsQLGP9dsRNQu83KBLHl0S4bt8xo0i) \n",
      "\n"
     ]
    }
   ],
   "source": [
    "videos_list, channels_list, playlists_list = youtube_search(q='Excel with this A-Z Microsoft Excel Course. Microsoft Excel 2010, 2013, 2016, Excel 2019 and Microsoft/Office 365/2023', max_results=50)"
   ]
  },
  {
   "cell_type": "code",
   "execution_count": null,
   "metadata": {},
   "outputs": [],
   "source": [
    "playlists_list"
   ]
  },
  {
   "cell_type": "code",
   "execution_count": 8,
   "metadata": {},
   "outputs": [],
   "source": [
    "def get_video_details(videoid):\n",
    "    youtube = build(\n",
    "        YOUTUBE_API_SERVICE_NAME, \n",
    "        YOUTUBE_API_VERSION,\n",
    "        developerKey=DEVELOPER_KEY\n",
    "    )\n",
    "\n",
    "    search_response = youtube.videos().list(\n",
    "        part=\"snippet,contentDetails,statistics\",\n",
    "        id=videoid\n",
    "    ).execute()\n",
    "\n",
    "    return search_response"
   ]
  },
  {
   "cell_type": "code",
   "execution_count": 10,
   "metadata": {},
   "outputs": [
    {
     "data": {
      "text/plain": [
       "{'kind': 'youtube#videoListResponse',\n",
       " 'etag': 'HNxn1DjcajpOiFDxcPjh6wHODwM',\n",
       " 'items': [{'kind': 'youtube#video',\n",
       "   'etag': 'rXZ3AE-CZa6V6ZMFEv_MliQsL_8',\n",
       "   'id': 'WrNvDniOUwo',\n",
       "   'snippet': {'publishedAt': '2023-01-20T16:00:31Z',\n",
       "    'channelId': 'UCLLw7jmFsvfIVaUFsLs8mlQ',\n",
       "    'title': 'Top Excel courses for Data Analysts 🧑\\u200d🎓📊',\n",
       "    'description': 'Excel Skills for Business 👉🏼  https://lukeb.co/ExcelBusinessAnalyst\\nExcel Basics for Data Analytics 👉🏼  https://lukeb.co/ExcelBasics\\n\\nCourses for Data Nerds\\n==================================\\n📜 Google Data Analytics Certificate (START HERE) 👉🏼  https://lukeb.co/GoogleCert\\n💿 SQL for Data Science 👉🏼 https://lukeb.co/SQLdataScience\\n🧾 Excel Skills for Business 👉🏼  https://lukeb.co/ExcelBusinessAnalyst\\n🐍 Python for Everybody 👉🏼  https://lukeb.co/PythonForEverybody\\n📊 Data Visualization with Tableau 👉🏼 https://lukeb.co/Tableau_UCDavis\\n🏴\\u200d☠️ Data Science: Foundations using R 👉🏼 https://lukeb.co/RforDataScienceJH\\n➕ Coursera Plus Subscription (7-day free trial) 👉🏼 https://lukeb.co/CourseraPlus\\n👨🏼\\u200d🏫 All courses 👉🏼 https://kit.co/lukebarousse/data-analytics-courses\\n\\nBuild a Portfolio\\n==================================\\n👩🏻\\u200d💻Build portfolio here 👉🏼  http://hostinger.com/luke\\nRebate Code: \"LUKE\" \\nMy Portfolio  👉🏼  https://lukebarousse.tech/\\n\\nBooks for Data Nerds\\n==================================\\n📚 Books I’ve read 👉🏼  https://kit.co/lukebarousse/book-recommendations\\n📗 Data Analyst Must Read 👉🏼 https://geni.us/StorytellingWithData\\n📙 Tableau 👉🏼  https://geni.us/tableau\\n📘 Power BI👉🏼  https://geni.us/powerbi\\n📕 Python 👉🏼 https://geni.us/pythontricks\\n\\nTech for Data Nerds\\n==================================\\n⚙️ Tech I use 👉🏼 https://kit.co/lukebarousse/computer-accessories\\n🪟Windows on a Mac (Parallels VM) 👉🏼 https://lukeb.co/ParallelsFreeTrial\\n👨🏼\\u200d💻 M1 Macbook Air (Mac of choice) 👉🏼 https://geni.us/M1macAir8GB\\n💻 Dell XPS 13 (PC of choice) 👉🏼  https://geni.us/DellNewXPS13\\n💻 Asus Vivo Book (Lowest Cost PC) 👉🏼 https://geni.us/AsusVivoBook15\\n💻Lenovo IdeaPad (Best Value PC)👉🏼  https://geni.us/LenovoIdeaPad15\\n\\nSocial Media / Contact Me\\n======================\\n👾 r/DataNerd 👉🏼 https://www.reddit.com/r/DataNerd/\\n🌄 Instagram: https://www.instagram.com/lukebarousse/\\n⏰ TikTok: https://www.tiktok.com/@lukebarousse\\n📘 Facebook: https://www.facebook.com/datavizbyluke\\n🙋🏼\\u200d♂️Newsletter: https://www.lukebarousse.com/\\n\\nAs a member of the Amazon, Coursera, Hostinger, and Parallels Affiliate Programs, I earn a commission from qualifying purchases on the links above.  It costs you nothing but helps me with content creation.\\n\\n#datanerd #dataanalyst #datascience',\n",
       "    'thumbnails': {'default': {'url': 'https://i.ytimg.com/vi/WrNvDniOUwo/default.jpg',\n",
       "      'width': 120,\n",
       "      'height': 90},\n",
       "     'medium': {'url': 'https://i.ytimg.com/vi/WrNvDniOUwo/mqdefault.jpg',\n",
       "      'width': 320,\n",
       "      'height': 180},\n",
       "     'high': {'url': 'https://i.ytimg.com/vi/WrNvDniOUwo/hqdefault.jpg',\n",
       "      'width': 480,\n",
       "      'height': 360},\n",
       "     'standard': {'url': 'https://i.ytimg.com/vi/WrNvDniOUwo/sddefault.jpg',\n",
       "      'width': 640,\n",
       "      'height': 480},\n",
       "     'maxres': {'url': 'https://i.ytimg.com/vi/WrNvDniOUwo/maxresdefault.jpg',\n",
       "      'width': 1280,\n",
       "      'height': 720}},\n",
       "    'channelTitle': 'Luke Barousse',\n",
       "    'categoryId': '26',\n",
       "    'liveBroadcastContent': 'none',\n",
       "    'localized': {'title': 'Top Excel courses for Data Analysts 🧑\\u200d🎓📊',\n",
       "     'description': 'Excel Skills for Business 👉🏼  https://lukeb.co/ExcelBusinessAnalyst\\nExcel Basics for Data Analytics 👉🏼  https://lukeb.co/ExcelBasics\\n\\nCourses for Data Nerds\\n==================================\\n📜 Google Data Analytics Certificate (START HERE) 👉🏼  https://lukeb.co/GoogleCert\\n💿 SQL for Data Science 👉🏼 https://lukeb.co/SQLdataScience\\n🧾 Excel Skills for Business 👉🏼  https://lukeb.co/ExcelBusinessAnalyst\\n🐍 Python for Everybody 👉🏼  https://lukeb.co/PythonForEverybody\\n📊 Data Visualization with Tableau 👉🏼 https://lukeb.co/Tableau_UCDavis\\n🏴\\u200d☠️ Data Science: Foundations using R 👉🏼 https://lukeb.co/RforDataScienceJH\\n➕ Coursera Plus Subscription (7-day free trial) 👉🏼 https://lukeb.co/CourseraPlus\\n👨🏼\\u200d🏫 All courses 👉🏼 https://kit.co/lukebarousse/data-analytics-courses\\n\\nBuild a Portfolio\\n==================================\\n👩🏻\\u200d💻Build portfolio here 👉🏼  http://hostinger.com/luke\\nRebate Code: \"LUKE\" \\nMy Portfolio  👉🏼  https://lukebarousse.tech/\\n\\nBooks for Data Nerds\\n==================================\\n📚 Books I’ve read 👉🏼  https://kit.co/lukebarousse/book-recommendations\\n📗 Data Analyst Must Read 👉🏼 https://geni.us/StorytellingWithData\\n📙 Tableau 👉🏼  https://geni.us/tableau\\n📘 Power BI👉🏼  https://geni.us/powerbi\\n📕 Python 👉🏼 https://geni.us/pythontricks\\n\\nTech for Data Nerds\\n==================================\\n⚙️ Tech I use 👉🏼 https://kit.co/lukebarousse/computer-accessories\\n🪟Windows on a Mac (Parallels VM) 👉🏼 https://lukeb.co/ParallelsFreeTrial\\n👨🏼\\u200d💻 M1 Macbook Air (Mac of choice) 👉🏼 https://geni.us/M1macAir8GB\\n💻 Dell XPS 13 (PC of choice) 👉🏼  https://geni.us/DellNewXPS13\\n💻 Asus Vivo Book (Lowest Cost PC) 👉🏼 https://geni.us/AsusVivoBook15\\n💻Lenovo IdeaPad (Best Value PC)👉🏼  https://geni.us/LenovoIdeaPad15\\n\\nSocial Media / Contact Me\\n======================\\n👾 r/DataNerd 👉🏼 https://www.reddit.com/r/DataNerd/\\n🌄 Instagram: https://www.instagram.com/lukebarousse/\\n⏰ TikTok: https://www.tiktok.com/@lukebarousse\\n📘 Facebook: https://www.facebook.com/datavizbyluke\\n🙋🏼\\u200d♂️Newsletter: https://www.lukebarousse.com/\\n\\nAs a member of the Amazon, Coursera, Hostinger, and Parallels Affiliate Programs, I earn a commission from qualifying purchases on the links above.  It costs you nothing but helps me with content creation.\\n\\n#datanerd #dataanalyst #datascience'},\n",
       "    'defaultAudioLanguage': 'en-US'},\n",
       "   'contentDetails': {'duration': 'PT41S',\n",
       "    'dimension': '2d',\n",
       "    'definition': 'hd',\n",
       "    'caption': 'false',\n",
       "    'licensedContent': True,\n",
       "    'contentRating': {},\n",
       "    'projection': 'rectangular'},\n",
       "   'statistics': {'viewCount': '42704',\n",
       "    'likeCount': '4460',\n",
       "    'favoriteCount': '0',\n",
       "    'commentCount': '52'}}],\n",
       " 'pageInfo': {'totalResults': 1, 'resultsPerPage': 1}}"
      ]
     },
     "execution_count": 10,
     "metadata": {},
     "output_type": "execute_result"
    }
   ],
   "source": [
    "get_video_details(videoid='WrNvDniOUwo')"
   ]
  },
  {
   "cell_type": "code",
   "execution_count": 9,
   "metadata": {},
   "outputs": [
    {
     "name": "stdout",
     "output_type": "stream",
     "text": [
      "Excel Skills for Business 👉🏼  https://lukeb.co/ExcelBusinessAnalyst\n",
      "Excel Basics for Data Analytics 👉🏼  https://lukeb.co/ExcelBasics\n",
      "\n",
      "Courses for Data Nerds\n",
      "==================================\n",
      "📜 Google Data Analytics Certificate (START HERE) 👉🏼  https://lukeb.co/GoogleCert\n",
      "💿 SQL for Data Science 👉🏼 https://lukeb.co/SQLdataScience\n",
      "🧾 Excel Skills for Business 👉🏼  https://lukeb.co/ExcelBusinessAnalyst\n",
      "🐍 Python for Everybody 👉🏼  https://lukeb.co/PythonForEverybody\n",
      "📊 Data Visualization with Tableau 👉🏼 https://lukeb.co/Tableau_UCDavis\n",
      "🏴‍☠️ Data Science: Foundations using R 👉🏼 https://lukeb.co/RforDataScienceJH\n",
      "➕ Coursera Plus Subscription (7-day free trial) 👉🏼 https://lukeb.co/CourseraPlus\n",
      "👨🏼‍🏫 All courses 👉🏼 https://kit.co/lukebarousse/data-analytics-courses\n",
      "\n",
      "Build a Portfolio\n",
      "==================================\n",
      "👩🏻‍💻Build portfolio here 👉🏼  http://hostinger.com/luke\n",
      "Rebate Code: \"LUKE\" \n",
      "My Portfolio  👉🏼  https://lukebarousse.tech/\n",
      "\n",
      "Books for Data Nerds\n",
      "==================================\n",
      "📚 Books I’ve read 👉🏼  https://kit.co/lukebarousse/book-recommendations\n",
      "📗 Data Analyst Must Read 👉🏼 https://geni.us/StorytellingWithData\n",
      "📙 Tableau 👉🏼  https://geni.us/tableau\n",
      "📘 Power BI👉🏼  https://geni.us/powerbi\n",
      "📕 Python 👉🏼 https://geni.us/pythontricks\n",
      "\n",
      "Tech for Data Nerds\n",
      "==================================\n",
      "⚙️ Tech I use 👉🏼 https://kit.co/lukebarousse/computer-accessories\n",
      "🪟Windows on a Mac (Parallels VM) 👉🏼 https://lukeb.co/ParallelsFreeTrial\n",
      "👨🏼‍💻 M1 Macbook Air (Mac of choice) 👉🏼 https://geni.us/M1macAir8GB\n",
      "💻 Dell XPS 13 (PC of choice) 👉🏼  https://geni.us/DellNewXPS13\n",
      "💻 Asus Vivo Book (Lowest Cost PC) 👉🏼 https://geni.us/AsusVivoBook15\n",
      "💻Lenovo IdeaPad (Best Value PC)👉🏼  https://geni.us/LenovoIdeaPad15\n",
      "\n",
      "Social Media / Contact Me\n",
      "======================\n",
      "👾 r/DataNerd 👉🏼 https://www.reddit.com/r/DataNerd/\n",
      "🌄 Instagram: https://www.instagram.com/lukebarousse/\n",
      "⏰ TikTok: https://www.tiktok.com/@lukebarousse\n",
      "📘 Facebook: https://www.facebook.com/datavizbyluke\n",
      "🙋🏼‍♂️Newsletter: https://www.lukebarousse.com/\n",
      "\n",
      "As a member of the Amazon, Coursera, Hostinger, and Parallels Affiliate Programs, I earn a commission from qualifying purchases on the links above.  It costs you nothing but helps me with content creation.\n",
      "\n",
      "#datanerd #dataanalyst #datascience\n"
     ]
    }
   ],
   "source": [
    "for i in get_video_details(videoid=\"WrNvDniOUwo\")['items']:\n",
    "    \n",
    "    print(i['snippet']['description'])"
   ]
  },
  {
   "cell_type": "code",
   "execution_count": null,
   "metadata": {},
   "outputs": [],
   "source": [
    "from youtube_transcript_api import YouTubeTranscriptApi\n",
    "\n",
    "YouTubeTranscriptApi.get_transcript(\"Vl0H-qTclOg\", preserve_formatting=True)"
   ]
  },
  {
   "cell_type": "code",
   "execution_count": null,
   "metadata": {},
   "outputs": [],
   "source": [
    "for item in YouTubeTranscriptApi.get_transcript(\"Vl0H-qTclOg\", preserve_formatting=True):\n",
    "    print(item['text'])"
   ]
  },
  {
   "cell_type": "code",
   "execution_count": null,
   "metadata": {},
   "outputs": [],
   "source": [
    "for item in YouTubeTranscriptApi.get_transcript(\"DXOq1xiIaF0\", preserve_formatting=True):\n",
    "    print(item['text'])"
   ]
  }
 ],
 "metadata": {
  "kernelspec": {
   "display_name": "online_courses_env",
   "language": "python",
   "name": "python3"
  },
  "language_info": {
   "codemirror_mode": {
    "name": "ipython",
    "version": 3
   },
   "file_extension": ".py",
   "mimetype": "text/x-python",
   "name": "python",
   "nbconvert_exporter": "python",
   "pygments_lexer": "ipython3",
   "version": "3.9.16"
  },
  "orig_nbformat": 4
 },
 "nbformat": 4,
 "nbformat_minor": 2
}
