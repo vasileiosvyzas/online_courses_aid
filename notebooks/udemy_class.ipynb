{
 "cells": [
  {
   "cell_type": "code",
   "execution_count": 4,
   "metadata": {},
   "outputs": [],
   "source": [
    "import requests\n",
    "import os\n",
    "import json\n",
    "import time\n",
    "import json\n",
    "import pandas as pd\n",
    "\n",
    "from typing import Dict, List\n",
    "from requests.auth import HTTPBasicAuth\n",
    "from datetime import datetime\n",
    "from bs4 import BeautifulSoup\n",
    "from dotenv import load_dotenv, find_dotenv"
   ]
  },
  {
   "cell_type": "code",
   "execution_count": null,
   "metadata": {},
   "outputs": [],
   "source": [
    "class UdemyAPI:\n",
    "    def __init__(self) -> None:\n",
    "        # find .env automagically by walking up directories until it's found\n",
    "        dotenv_path = find_dotenv()\n",
    "\n",
    "        # load up the entries as environment variables\n",
    "        load_dotenv(dotenv_path)\n",
    "\n",
    "        self.CLIENT_ID = os.environ.get(\"UDEMY_CLIENT_ID\")\n",
    "        self.CLIENT_SECRET = os.environ.get(\"UDEMY_CLIENT_SECRET\")\n",
    "        self.session = requests.Session()\n",
    "\n",
    "    \n",
    "    def request_data(self, url):\n",
    "        try:\n",
    "            response = self.session.get(url, auth=HTTPBasicAuth(self.CLIENT_ID, self.CLIENT_SECRET))\n",
    "\n",
    "            response.raise_for_status()\n",
    "            return response.json()\n",
    "        except requests.exceptions.HTTPError as errh:\n",
    "            print(errh)\n",
    "        except requests.exceptions.ConnectionError as errc:\n",
    "            print(errc)\n",
    "        except requests.exceptions.Timeout as errt:\n",
    "            print(errt)\n",
    "        except requests.exceptions.RequestException as err:\n",
    "            print(err)\n",
    "    \n",
    "    def request_course_data(self):\n",
    "        pass\n",
    "    \n",
    "    def request_course_details(self):\n",
    "        pass\n",
    "    \n",
    "    def request_course_curriculum(self):\n",
    "        pass\n",
    "    "
   ]
  }
 ],
 "metadata": {
  "kernelspec": {
   "display_name": "online_courses_env",
   "language": "python",
   "name": "python3"
  },
  "language_info": {
   "codemirror_mode": {
    "name": "ipython",
    "version": 3
   },
   "file_extension": ".py",
   "mimetype": "text/x-python",
   "name": "python",
   "nbconvert_exporter": "python",
   "pygments_lexer": "ipython3",
   "version": "3.9.16"
  },
  "orig_nbformat": 4
 },
 "nbformat": 4,
 "nbformat_minor": 2
}
