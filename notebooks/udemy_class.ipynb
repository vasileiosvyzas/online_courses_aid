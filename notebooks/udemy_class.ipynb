{
 "cells": [
  {
   "cell_type": "code",
   "execution_count": null,
   "metadata": {},
   "outputs": [],
   "source": [
    "import os\n",
    "import sys\n",
    "import json\n",
    "import time\n",
    "import pandas as pd\n",
    "import requests\n",
    "from requests.auth import HTTPBasicAuth\n",
    "from dotenv import find_dotenv, load_dotenv\n",
    "\n",
    "from datetime import datetime\n",
    "\n",
    "sys.path.append('/Users/vasileiosvyzas/workspace/online_courses_aid/')\n",
    "from src.udemy_client import UdemyClient\n",
    "from src.utils import write_data_to_json_on_disk"
   ]
  },
  {
   "cell_type": "code",
   "execution_count": null,
   "metadata": {},
   "outputs": [],
   "source": [
    "dotenv_path = find_dotenv()\n",
    "\n",
    "# load up the entries as environment variables\n",
    "load_dotenv(dotenv_path)\n",
    "\n",
    "CLIENT_ID = os.environ.get(\"UDEMY_CLIENT_ID\")\n",
    "CLIENT_SECRET = os.environ.get(\"UDEMY_CLIENT_SECRET\")"
   ]
  },
  {
   "cell_type": "markdown",
   "metadata": {},
   "source": [
    "# Call and test the class"
   ]
  },
  {
   "cell_type": "code",
   "execution_count": null,
   "metadata": {},
   "outputs": [],
   "source": [
    "udemy = UdemyClient()\n",
    "\n",
    "# get the courses from the API\n",
    "courses_list = udemy.get_courses_list()\n",
    "\n",
    "print(len(courses_list))\n",
    "\n",
    "# write first set of results on disk\n",
    "file_name = f'courses_list_{str(datetime.now().date())}.json'\n",
    "file_location = os.path.join(os.path.abspath(os.path.join(os.getcwd(), os.pardir)), 'data/raw', file_name)\n",
    "\n",
    "print(f\"Writing the results of the courses list in {file_location}\")\n",
    "write_data_to_json_on_disk(courses=courses_list, file_location=file_location)\n",
    "\n",
    "# TODO: add courses_list in elasticsearch\n",
    "\n",
    "# get the details (title, description, headline etc.) for each course in the list\n",
    "course_details_list = []\n",
    "course_curriculum_list = []\n",
    "\n",
    "for course in courses_list:\n",
    "    course_id = course['id']\n",
    "    \n",
    "    print(f\"Getting the course details for course: {course_id}\")\n",
    "    course_details = udemy.get_course_details(course_id=course_id)\n",
    "    course_details_list.append(course_details)\n",
    "    \n",
    "    # print(f'Getting the curriculum for course: {course_id}')\n",
    "    # course_curriculum = udemy.get_course_curriculum(course_id=course_id)\n",
    "    # public_curriculum_items = {'course_id': course_id, 'curriculum': course_curriculum}\n",
    "    # course_curriculum_list.append(public_curriculum_items)\n",
    "\n",
    "# TODO: add course_details_list to elasticsearch or add the data to elasticsearch in the for loop one by one\n",
    "\n",
    "# write first set of results on disk\n",
    "file_name = f'courses_details_{str(datetime.now().date())}.json'\n",
    "file_location = os.path.join(os.path.abspath(os.path.join(os.getcwd(), os.pardir)), 'data/raw', file_name)\n",
    "print(f\"Writing the results of the courses list in {file_location}\")\n",
    "write_data_to_json_on_disk(courses=course_details_list, file_location=file_location)\n",
    "\n",
    "# file_name = f'courses_curriculum_{str(datetime.now().date())}.json'\n",
    "# file_location = os.path.join(os.path.abspath(os.path.join(os.getcwd(), os.pardir)), 'data/raw', file_name)\n",
    "# print(f\"Writing the results of the courses list in {file_location}\")\n",
    "# write_data_to_json_on_disk(courses=course_curriculum_list, file_location=file_location)"
   ]
  },
  {
   "cell_type": "code",
   "execution_count": null,
   "metadata": {},
   "outputs": [],
   "source": []
  },
  {
   "cell_type": "code",
   "execution_count": null,
   "metadata": {},
   "outputs": [],
   "source": [
    "udemy = UdemyClient()\n",
    "\n",
    "# get the courses from the API\n",
    "# courses_list = udemy.get_courses_list()\n",
    "\n",
    "with open('../data/raw/courses_list_2023-08-21.json', 'r') as f:\n",
    "    courses_list = json.load(f)\n",
    "\n",
    "print(len(courses_list))\n",
    "\n",
    "# get the details (title, description, headline etc.) for each course in the list\n",
    "course_details_list = []\n",
    "course_curriculum_list = []\n",
    "\n",
    "for course_number, course in enumerate(courses_list):\n",
    "    course_id = course['id']\n",
    "    \n",
    "    course_details_endpoint = f\"https://www.udemy.com/api-2.0/courses/{course_id}/?fields[course]=title,headline,description,url,visible_instructors,primary_category,primary_subcategory,status_label\"\n",
    "\n",
    "    print(f\"Making a call for course number: {course_number} with ID: {course_id}\")\n",
    "    HEADERS = {\n",
    "            'User-Agent': 'Mozilla/5.0 (Macintosh; Intel Mac OS X 10_15_7) AppleWebKit/537.36 (KHTML, like Gecko) Chrome/115.0.0.0 Safari/537.36'\n",
    "    }\n",
    "    \n",
    "    course_details = requests.get(\n",
    "        course_details_endpoint, \n",
    "        auth=HTTPBasicAuth(CLIENT_ID, CLIENT_SECRET), \n",
    "        # headers=HEADERS\n",
    "    )\n",
    "    \n",
    "    print(course_details)\n",
    "    print(course_details.json())\n",
    "    print(course_details.status_code)\n",
    "    \n",
    "    if course_details.status_code == 429:\n",
    "        time.sleep(120)\n",
    "        \n",
    "    if course_details.status_code == 403:\n",
    "        continue\n",
    "    \n",
    "    \n",
    "    print(f'Returning the details for course {course_id}')\n",
    "        \n",
    "    course_details_list.append(course_details.json())\n",
    "    time.sleep(5)\n",
    "    print()\n",
    "    \n",
    "# write first set of results on disk\n",
    "file_name = f'courses_details_{str(datetime.now().date())}.json'\n",
    "file_location = os.path.join(os.path.abspath(os.path.join(os.getcwd(), os.pardir)), 'data/raw', file_name)\n",
    "print(f\"Writing the results of the courses list in {file_location}\")\n",
    "write_data_to_json_on_disk(courses=course_details_list, file_location=file_location)"
   ]
  },
  {
   "cell_type": "code",
   "execution_count": null,
   "metadata": {},
   "outputs": [],
   "source": [
    "len(course_details_list)"
   ]
  },
  {
   "cell_type": "code",
   "execution_count": null,
   "metadata": {},
   "outputs": [],
   "source": [
    "with open('../data/raw/courses_details_2023-08-26.json', 'r') as f:\n",
    "    initial_courses = json.load(f)"
   ]
  },
  {
   "cell_type": "code",
   "execution_count": null,
   "metadata": {},
   "outputs": [],
   "source": [
    "initial_courses"
   ]
  },
  {
   "cell_type": "code",
   "execution_count": null,
   "metadata": {},
   "outputs": [],
   "source": [
    "course_ids_first_run = []\n",
    "for course in initial_courses:\n",
    "    course_ids_first_run.append(course['id'])"
   ]
  },
  {
   "cell_type": "code",
   "execution_count": null,
   "metadata": {},
   "outputs": [],
   "source": [
    "udemy = UdemyClient()\n",
    "\n",
    "# get the courses from the API\n",
    "# courses_list = udemy.get_courses_list()\n",
    "\n",
    "with open('../data/raw/courses_list_2023-08-21.json', 'r') as f:\n",
    "    courses_list = json.load(f)\n",
    "\n",
    "print(len(courses_list))\n",
    "\n",
    "# get the details (title, description, headline etc.) for each course in the list\n",
    "course_details_list = []\n",
    "course_curriculum_list = []\n",
    "\n",
    "for course_number, course in enumerate(courses_list):\n",
    "    course_id = course['id']\n",
    "    \n",
    "    if course_id in course_ids_first_run:\n",
    "        print('This id is in the initial list of courses acquired yesterday')\n",
    "        continue\n",
    "    \n",
    "    course_details_endpoint = f\"https://www.udemy.com/api-2.0/courses/{course_id}/?fields[course]=title,headline,description,url,visible_instructors,primary_category,primary_subcategory,status_label\"\n",
    "\n",
    "    print(f\"Making a call for course number: {course_number} with ID: {course_id}\")\n",
    "    \n",
    "    course_details = requests.get(\n",
    "        course_details_endpoint, \n",
    "        auth=HTTPBasicAuth(CLIENT_ID, CLIENT_SECRET), \n",
    "        # headers=HEADERS\n",
    "    )\n",
    "    \n",
    "    print(course_details)\n",
    "    print(course_details.json())\n",
    "    print(course_details.status_code)\n",
    "    \n",
    "    if course_details.status_code == 429:\n",
    "        time.sleep(120)\n",
    "        \n",
    "    if course_details.status_code == 403:\n",
    "        continue\n",
    "    \n",
    "    \n",
    "    print(f'Returning the details for course {course_id}')\n",
    "        \n",
    "    course_details_list.append(course_details.json())\n",
    "    time.sleep(2)\n",
    "    print()"
   ]
  },
  {
   "cell_type": "code",
   "execution_count": null,
   "metadata": {},
   "outputs": [],
   "source": [
    "len(course_details_list)"
   ]
  },
  {
   "cell_type": "code",
   "execution_count": null,
   "metadata": {},
   "outputs": [],
   "source": [
    "# write first set of results on disk\n",
    "file_name = f'courses_details_{str(datetime.now().date())}.json'\n",
    "file_location = os.path.join(os.path.abspath(os.path.join(os.getcwd(), os.pardir)), 'data/raw', file_name)\n",
    "print(f\"Writing the results of the courses list in {file_location}\")\n",
    "write_data_to_json_on_disk(courses=course_details_list, file_location=file_location)"
   ]
  },
  {
   "cell_type": "code",
   "execution_count": null,
   "metadata": {},
   "outputs": [],
   "source": [
    "course_ids_first_run.extend(course_details_list)"
   ]
  },
  {
   "cell_type": "code",
   "execution_count": null,
   "metadata": {},
   "outputs": [],
   "source": [
    "len(course_ids_first_run)"
   ]
  }
 ],
 "metadata": {
  "kernelspec": {
   "display_name": "online_courses_env",
   "language": "python",
   "name": "python3"
  },
  "language_info": {
   "codemirror_mode": {
    "name": "ipython",
    "version": 3
   },
   "file_extension": ".py",
   "mimetype": "text/x-python",
   "name": "python",
   "nbconvert_exporter": "python",
   "pygments_lexer": "ipython3",
   "version": "3.9.16"
  }
 },
 "nbformat": 4,
 "nbformat_minor": 2
}
