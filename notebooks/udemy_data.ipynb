{
 "cells": [
  {
   "cell_type": "code",
   "execution_count": null,
   "metadata": {},
   "outputs": [],
   "source": [
    "import requests\n",
    "import os\n",
    "import json\n",
    "import time\n",
    "import json\n",
    "import pandas as pd\n",
    "\n",
    "from typing import Dict, List\n",
    "from requests.auth import HTTPBasicAuth\n",
    "from datetime import datetime\n",
    "from bs4 import BeautifulSoup\n",
    "from dotenv import load_dotenv, find_dotenv"
   ]
  },
  {
   "cell_type": "code",
   "execution_count": null,
   "metadata": {},
   "outputs": [],
   "source": [
    "# find .env automagically by walking up directories until it's found\n",
    "dotenv_path = find_dotenv()\n",
    "\n",
    "# load up the entries as environment variables\n",
    "load_dotenv(dotenv_path)\n",
    "\n",
    "CLIENT_ID = os.environ.get(\"UDEMY_CLIENT_ID\")\n",
    "CLIENT_SECRET = os.environ.get(\"UDEMY_CLIENT_SECRET\")"
   ]
  },
  {
   "attachments": {},
   "cell_type": "markdown",
   "metadata": {},
   "source": [
    "# Call the API and get a list of courses"
   ]
  },
  {
   "cell_type": "code",
   "execution_count": null,
   "metadata": {},
   "outputs": [],
   "source": [
    "def request_data(url: str, session) -> Dict:\n",
    "    try:\n",
    "        response = session.get(url,\n",
    "                               auth=HTTPBasicAuth(CLIENT_ID, CLIENT_SECRET))\n",
    "\n",
    "        response.raise_for_status()\n",
    "        return response.json()\n",
    "    except requests.exceptions.HTTPError as errh:\n",
    "        print(errh)\n",
    "    except requests.exceptions.ConnectionError as errc:\n",
    "        print(errc)\n",
    "    except requests.exceptions.Timeout as errt:\n",
    "        print(errt)\n",
    "    except requests.exceptions.RequestException as err:\n",
    "        print(err)"
   ]
  },
  {
   "cell_type": "code",
   "execution_count": null,
   "metadata": {},
   "outputs": [],
   "source": [
    "def write_data_to_json_on_disk(courses: List, file_location: str) -> None:\n",
    "    with open(file_location, 'w') as output_file:\n",
    "        json.dump(courses, output_file)"
   ]
  },
  {
   "cell_type": "code",
   "execution_count": null,
   "metadata": {},
   "outputs": [],
   "source": [
    "session = requests.Session()\n",
    "root_endpoint = 'https://www.udemy.com/api-2.0/courses/'\n",
    "courses_list = request_data(root_endpoint, session)\n",
    "print(courses_list)\n",
    "\n",
    "all_courses = courses_list['results']\n",
    "while courses_list['next'] is not None:\n",
    "    next_page = courses_list['next']\n",
    "    print(next_page)\n",
    "    time.sleep(2)\n",
    "    courses_list = request_data(next_page, session)\n",
    "    all_courses.extend(courses_list['results'])"
   ]
  },
  {
   "cell_type": "code",
   "execution_count": null,
   "metadata": {},
   "outputs": [],
   "source": [
    "file_name = str(datetime.now().date()) + '.json'\n",
    "file_location = os.path.join(os.path.abspath(os.path.join(os.getcwd(), os.pardir)), 'data/raw', file_name)\n",
    "\n",
    "write_data_to_json_on_disk(courses=all_courses, file_location=file_location)"
   ]
  },
  {
   "attachments": {},
   "cell_type": "markdown",
   "metadata": {},
   "source": [
    "# Extract which data I need from the courses"
   ]
  },
  {
   "cell_type": "code",
   "execution_count": null,
   "metadata": {},
   "outputs": [],
   "source": [
    "with open('../data/raw/2023-06-20.json', 'r') as f:\n",
    "    all_courses = json.load(f)"
   ]
  },
  {
   "cell_type": "code",
   "execution_count": null,
   "metadata": {},
   "outputs": [],
   "source": [
    "title = []\n",
    "url = []\n",
    "id = []\n",
    "headline = []\n",
    "for course in all_courses:\n",
    "    title.append(course['title'])\n",
    "    url.append(course['url'])\n",
    "    id.append(course['id'])\n",
    "    headline.append(course['headline'])\n",
    "    \n",
    "d = {'title': title, 'url': url, 'id': id, 'headline': headline}\n",
    "df_courses = pd.DataFrame.from_dict(d, orient='columns')"
   ]
  },
  {
   "cell_type": "code",
   "execution_count": null,
   "metadata": {},
   "outputs": [],
   "source": [
    "df_courses.shape"
   ]
  },
  {
   "cell_type": "code",
   "execution_count": null,
   "metadata": {},
   "outputs": [],
   "source": [
    "df_courses.head()"
   ]
  },
  {
   "cell_type": "code",
   "execution_count": null,
   "metadata": {},
   "outputs": [],
   "source": [
    "df_courses.to_csv('../data/processed/courses.csv', index=False)"
   ]
  },
  {
   "attachments": {},
   "cell_type": "markdown",
   "metadata": {},
   "source": [
    "# Get the courses public curriculum"
   ]
  },
  {
   "cell_type": "code",
   "execution_count": null,
   "metadata": {},
   "outputs": [],
   "source": [
    "public_curriculum = []\n",
    "session = requests.Session()\n",
    "for course in all_courses:\n",
    "    course_id = course['id']\n",
    "    print(course_id)\n",
    "    course_curriculum = request_data(f'https://www.udemy.com/api-2.0/courses/{course_id}/public-curriculum-items/', session)\n",
    "    print(course_curriculum)\n",
    "\n",
    "    public_curriculum_items = {'course_id': course_id, 'curriculum': course_curriculum['results']}\n",
    "    while course_curriculum['next'] is not None:\n",
    "        next_page = course_curriculum['next']\n",
    "        print(next_page)\n",
    "        time.sleep(5)\n",
    "        course_curriculum = request_data(next_page, session)\n",
    "        print(course_curriculum)\n",
    "        public_curriculum_items['curriculum'].extend(course_curriculum['results'])\n",
    "    public_curriculum.append(public_curriculum_items)"
   ]
  },
  {
   "cell_type": "code",
   "execution_count": null,
   "metadata": {},
   "outputs": [],
   "source": [
    "dataframes = []\n",
    "for curriculum_item in public_curriculum:\n",
    "    print(curriculum_item['course_id'])\n",
    "    print(curriculum_item['curriculum'])\n",
    "    \n",
    "    class_item = []\n",
    "    id = []\n",
    "    title = []\n",
    "    description = []\n",
    "\n",
    "    for curriculum_item_inner in curriculum_item['curriculum']:\n",
    "        class_item.append(curriculum_item_inner['_class'])\n",
    "        id.append(curriculum_item_inner['id'])\n",
    "        title.append(curriculum_item_inner['title'])\n",
    "        # description.append(curriculum_item_inner['description'])\n",
    "        \n",
    "    d = {'class': class_item, 'id': curriculum_item['course_id'], 'title': title}\n",
    "    df_curriculum = pd.DataFrame.from_dict(d, orient='columns')\n",
    "    dataframes.append(df_curriculum)"
   ]
  },
  {
   "cell_type": "code",
   "execution_count": null,
   "metadata": {},
   "outputs": [],
   "source": [
    "df_curriculum = pd.concat(dataframes)"
   ]
  },
  {
   "cell_type": "code",
   "execution_count": null,
   "metadata": {},
   "outputs": [],
   "source": [
    "df_curriculum.head()"
   ]
  },
  {
   "cell_type": "code",
   "execution_count": null,
   "metadata": {},
   "outputs": [],
   "source": [
    "df_curriculum.shape"
   ]
  },
  {
   "attachments": {},
   "cell_type": "markdown",
   "metadata": {},
   "source": [
    "# Combine the courses with the curriculum data"
   ]
  },
  {
   "cell_type": "code",
   "execution_count": null,
   "metadata": {},
   "outputs": [],
   "source": [
    "df_curriculum.shape"
   ]
  },
  {
   "cell_type": "code",
   "execution_count": null,
   "metadata": {},
   "outputs": [],
   "source": [
    "df_courses.shape"
   ]
  },
  {
   "cell_type": "code",
   "execution_count": null,
   "metadata": {},
   "outputs": [],
   "source": [
    "df_curriculum.head()"
   ]
  },
  {
   "cell_type": "code",
   "execution_count": null,
   "metadata": {},
   "outputs": [],
   "source": [
    "df_courses.head()"
   ]
  },
  {
   "cell_type": "code",
   "execution_count": null,
   "metadata": {},
   "outputs": [],
   "source": [
    "df = df_courses.merge(df_curriculum, on='id', how='left')"
   ]
  },
  {
   "cell_type": "code",
   "execution_count": null,
   "metadata": {},
   "outputs": [],
   "source": [
    "df.shape"
   ]
  },
  {
   "cell_type": "code",
   "execution_count": null,
   "metadata": {},
   "outputs": [],
   "source": [
    "df.head()"
   ]
  },
  {
   "attachments": {},
   "cell_type": "markdown",
   "metadata": {},
   "source": [
    "# Exploring the data"
   ]
  },
  {
   "cell_type": "code",
   "execution_count": null,
   "metadata": {},
   "outputs": [],
   "source": [
    "df['title_x'].value_counts()"
   ]
  },
  {
   "cell_type": "code",
   "execution_count": null,
   "metadata": {},
   "outputs": [],
   "source": [
    "df[df['title_x'] == 'ChatGPT, Midjourney, Firefly, Bard, DALL-E, AI Crash Course']"
   ]
  },
  {
   "cell_type": "code",
   "execution_count": null,
   "metadata": {},
   "outputs": [],
   "source": [
    "df.loc[3081, 'headline']"
   ]
  },
  {
   "cell_type": "code",
   "execution_count": null,
   "metadata": {},
   "outputs": [],
   "source": [
    "df.loc[3081, 'url']"
   ]
  },
  {
   "attachments": {},
   "cell_type": "markdown",
   "metadata": {},
   "source": [
    "# Get the course details"
   ]
  },
  {
   "cell_type": "code",
   "execution_count": null,
   "metadata": {},
   "outputs": [],
   "source": [
    "course_details = []\n",
    "session = requests.Session()\n",
    "for course_info in all_courses:\n",
    "    print(course_info)\n",
    "    course_id = course_info['id']\n",
    "    \n",
    "    course_endpoint = f\"https://www.udemy.com/api-2.0/courses/{course_id}/?fields[course]=title,headline,description,url,visible_instructors,primary_category,primary_subcategory,status_label\"\n",
    "    single_courses_details = request_data(course_endpoint, session)\n",
    "    course_details.append(single_courses_details)\n",
    "    "
   ]
  },
  {
   "cell_type": "code",
   "execution_count": null,
   "metadata": {},
   "outputs": [],
   "source": [
    "len(course_details)"
   ]
  },
  {
   "cell_type": "code",
   "execution_count": null,
   "metadata": {},
   "outputs": [],
   "source": [
    "for course in course_details:\n",
    "    print(course['primary_category']['title_cleaned'])\n",
    "    print(course['primary_subcategory']['title_cleaned'])"
   ]
  },
  {
   "cell_type": "code",
   "execution_count": null,
   "metadata": {},
   "outputs": [],
   "source": [
    "title = []\n",
    "url = []\n",
    "id = []\n",
    "headline = []\n",
    "description = []\n",
    "primary_category = []\n",
    "primary_subcategory = []\n",
    "\n",
    "for course in course_details:\n",
    "    title.append(course['title'])\n",
    "    url.append(course['url'])\n",
    "    id.append(course['id'])\n",
    "    headline.append(course['headline'])\n",
    "    description.append(course['description'])\n",
    "    primary_category.append(course['primary_category']['title_cleaned'])\n",
    "    primary_subcategory.append(course['primary_subcategory']['title_cleaned'])\n",
    "\n",
    "    \n",
    "d = {'title': title, 'url': url, 'id': id, 'headline': headline, 'description': description, 'primary_category': primary_category, 'primary_subcategory': primary_subcategory}\n",
    "df_courses = pd.DataFrame.from_dict(d, orient='columns')"
   ]
  },
  {
   "cell_type": "code",
   "execution_count": null,
   "metadata": {},
   "outputs": [],
   "source": [
    "df_courses.head()"
   ]
  },
  {
   "cell_type": "code",
   "execution_count": null,
   "metadata": {},
   "outputs": [],
   "source": [
    "df_courses.tail()"
   ]
  },
  {
   "cell_type": "code",
   "execution_count": null,
   "metadata": {},
   "outputs": [],
   "source": [
    "df_courses.to_csv('../data/processed/courses.csv', index=False)"
   ]
  },
  {
   "attachments": {},
   "cell_type": "markdown",
   "metadata": {},
   "source": [
    "# Remove html tags from description"
   ]
  },
  {
   "cell_type": "code",
   "execution_count": null,
   "metadata": {},
   "outputs": [],
   "source": [
    "def remove_html_tags(text):\n",
    "    soup = BeautifulSoup(text, 'html.parser')\n",
    "    clean_text = soup.get_text()\n",
    "    return clean_text"
   ]
  },
  {
   "cell_type": "code",
   "execution_count": null,
   "metadata": {},
   "outputs": [],
   "source": [
    "df_courses['description_cleaned'] = df_courses['description'].apply(remove_html_tags)"
   ]
  },
  {
   "cell_type": "code",
   "execution_count": null,
   "metadata": {},
   "outputs": [],
   "source": [
    "df_courses.head()"
   ]
  },
  {
   "cell_type": "code",
   "execution_count": null,
   "metadata": {},
   "outputs": [],
   "source": [
    "df_courses.loc[2, 'url']"
   ]
  },
  {
   "cell_type": "code",
   "execution_count": null,
   "metadata": {},
   "outputs": [],
   "source": [
    "df_courses.loc[2, 'description_cleaned']"
   ]
  },
  {
   "cell_type": "code",
   "execution_count": null,
   "metadata": {},
   "outputs": [],
   "source": [
    "df_courses.loc[2, 'headline']"
   ]
  }
 ],
 "metadata": {
  "kernelspec": {
   "display_name": "online_courses_env",
   "language": "python",
   "name": "python3"
  },
  "language_info": {
   "codemirror_mode": {
    "name": "ipython",
    "version": 3
   },
   "file_extension": ".py",
   "mimetype": "text/x-python",
   "name": "python",
   "nbconvert_exporter": "python",
   "pygments_lexer": "ipython3",
   "version": "3.9.16"
  },
  "orig_nbformat": 4
 },
 "nbformat": 4,
 "nbformat_minor": 2
}
