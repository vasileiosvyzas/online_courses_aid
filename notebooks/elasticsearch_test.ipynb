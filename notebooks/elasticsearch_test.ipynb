{
 "cells": [
  {
   "cell_type": "code",
   "execution_count": null,
   "metadata": {},
   "outputs": [],
   "source": [
    "import requests\n",
    "import os\n",
    "import json\n",
    "import time\n",
    "import json\n",
    "import pandas as pd\n",
    "\n",
    "from typing import Dict, List\n",
    "from requests.auth import HTTPBasicAuth\n",
    "from datetime import datetime\n",
    "from bs4 import BeautifulSoup\n",
    "from dotenv import load_dotenv, find_dotenv\n",
    "\n",
    "from sklearn.feature_extraction.text import TfidfVectorizer\n",
    "from elasticsearch import Elasticsearch\n",
    "from elasticsearch_dsl import Search\n",
    "import re\n",
    "import spacy"
   ]
  },
  {
   "cell_type": "code",
   "execution_count": null,
   "metadata": {},
   "outputs": [],
   "source": [
    "# find .env automagically by walking up directories until it's found\n",
    "dotenv_path = find_dotenv()\n",
    "\n",
    "# load up the entries as environment variables\n",
    "load_dotenv(dotenv_path)\n",
    "\n",
    "ELASTIC_PASSWORD = os.environ.get(\"ELASTIC_USER_PASSWORD\")"
   ]
  },
  {
   "cell_type": "code",
   "execution_count": null,
   "metadata": {},
   "outputs": [],
   "source": [
    "df_courses = pd.read_csv('../data/interim/courses_sample.csv')"
   ]
  },
  {
   "cell_type": "code",
   "execution_count": null,
   "metadata": {},
   "outputs": [],
   "source": [
    "df_courses.head()"
   ]
  },
  {
   "attachments": {},
   "cell_type": "markdown",
   "metadata": {},
   "source": [
    "# Running Elasticsearch"
   ]
  },
  {
   "cell_type": "code",
   "execution_count": null,
   "metadata": {},
   "outputs": [],
   "source": [
    "INDEX = 'udemy_data'\n",
    "DOMAIN = '0.0.0.0'\n",
    "es = Elasticsearch(\n",
    "    hosts=\"https://localhost:9200\",\n",
    "    ca_certs=\"../http_ca.crt\",\n",
    "    http_auth=(\"elastic\", ELASTIC_PASSWORD)\n",
    ")"
   ]
  },
  {
   "cell_type": "code",
   "execution_count": null,
   "metadata": {},
   "outputs": [],
   "source": [
    "es"
   ]
  },
  {
   "attachments": {},
   "cell_type": "markdown",
   "metadata": {},
   "source": [
    "## Create the index"
   ]
  },
  {
   "cell_type": "code",
   "execution_count": null,
   "metadata": {},
   "outputs": [],
   "source": [
    "def check_and_create_index(es, index: str):\n",
    "    # define data model\n",
    "    mappings = {\n",
    "        'mappings': {\n",
    "            'properties': {\n",
    "                'title': {'type': 'text'},\n",
    "                'headline': {'type': 'text'},\n",
    "                'description': {'type': 'text'},\n",
    "                'primary_subcategory': {'type': 'text'},\n",
    "                'url': {'type': 'text'}\n",
    "            }\n",
    "        }\n",
    "    }\n",
    "    if not es.indices.exists(index=index):\n",
    "        es.indices.create(index=index, body=mappings, ignore=400)"
   ]
  },
  {
   "cell_type": "code",
   "execution_count": null,
   "metadata": {},
   "outputs": [],
   "source": [
    "check_and_create_index(es, index=INDEX)"
   ]
  },
  {
   "cell_type": "code",
   "execution_count": null,
   "metadata": {},
   "outputs": [],
   "source": [
    "es.indices.delete(index=INDEX)"
   ]
  },
  {
   "attachments": {},
   "cell_type": "markdown",
   "metadata": {},
   "source": [
    "## Populate the index"
   ]
  },
  {
   "cell_type": "code",
   "execution_count": null,
   "metadata": {},
   "outputs": [],
   "source": [
    "# add data to the index\n",
    "for index, course in df_courses.iterrows():\n",
    "    print(index)\n",
    "    \n",
    "    doc = {\n",
    "        'description': course['description'],\n",
    "        'headline': course['headline'],\n",
    "        'title': course['title'],\n",
    "        'primary_subcategory': course['primary_subcategory'],\n",
    "        'url': course['url']\n",
    "    }\n",
    "    \n",
    "    resp = es.index(index=INDEX, id=index, document=doc)\n",
    "    print(resp['result'])"
   ]
  },
  {
   "attachments": {},
   "cell_type": "markdown",
   "metadata": {},
   "source": [
    "## Search the index"
   ]
  },
  {
   "cell_type": "code",
   "execution_count": null,
   "metadata": {},
   "outputs": [],
   "source": [
    "resp = es.search(index=INDEX, query={\"match_all\": {}})\n",
    "print(\"Got %d Hits:\" % resp['hits']['total']['value'])\n",
    "for hit in resp['hits']['hits']:\n",
    "    print(hit)"
   ]
  },
  {
   "cell_type": "code",
   "execution_count": null,
   "metadata": {},
   "outputs": [],
   "source": [
    "s = Search(using=es, index=INDEX).query(\"match\", title=\"excel\")\n",
    "response = s.execute()\n",
    "\n",
    "for hit in response:\n",
    "    print(hit.url, hit.title, hit.headline)"
   ]
  }
 ],
 "metadata": {
  "kernelspec": {
   "display_name": "online_courses_env",
   "language": "python",
   "name": "python3"
  },
  "language_info": {
   "codemirror_mode": {
    "name": "ipython",
    "version": 3
   },
   "file_extension": ".py",
   "mimetype": "text/x-python",
   "name": "python",
   "nbconvert_exporter": "python",
   "pygments_lexer": "ipython3",
   "version": "3.9.16"
  },
  "orig_nbformat": 4
 },
 "nbformat": 4,
 "nbformat_minor": 2
}
