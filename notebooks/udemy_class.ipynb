{
 "cells": [
  {
   "cell_type": "code",
   "execution_count": null,
   "metadata": {},
   "outputs": [],
   "source": [
    "import requests\n",
    "import os\n",
    "import sys\n",
    "import json\n",
    "import time\n",
    "import json\n",
    "import pandas as pd\n",
    "\n",
    "from typing import Dict, List\n",
    "from requests.auth import HTTPBasicAuth\n",
    "from datetime import datetime\n",
    "from bs4 import BeautifulSoup\n",
    "from dotenv import load_dotenv, find_dotenv\n",
    "\n",
    "from sklearn.feature_extraction.text import TfidfVectorizer\n",
    "import re\n",
    "import spacy"
   ]
  },
  {
   "cell_type": "markdown",
   "metadata": {},
   "source": [
    "# Call and test the class"
   ]
  },
  {
   "cell_type": "code",
   "execution_count": null,
   "metadata": {},
   "outputs": [],
   "source": [
    "sys.path.append('/Users/vasileiosvyzas/workspace/online_courses_aid/')\n",
    "from src.udemy_client import UdemyClient"
   ]
  },
  {
   "cell_type": "code",
   "execution_count": null,
   "metadata": {},
   "outputs": [],
   "source": [
    "udemy = UdemyClient()\n",
    "\n",
    "# get the courses\n",
    "courses_list = udemy.get_courses_list()\n",
    "\n",
    "# add courses_list in elasticsearch\n",
    "\n",
    "# get the details (title, description, headline etc.) for each course in the list\n",
    "course_details_list = []\n",
    "course_curriculum_list = []\n",
    "\n",
    "for course in courses_list:\n",
    "    course_id = course['id']\n",
    "    \n",
    "    print(f\"Getting the course details for course: {course_id}\")\n",
    "    course_details = udemy.get_course_details(course_id=course_id)\n",
    "    print(course_details)\n",
    "    course_details_list.append(course_details)\n",
    "    \n",
    "    print(f'Getting the curriculum for course: {course_id}')\n",
    "    course_curriculum = udemy.get_course_curriculum(course_id=course_id)\n",
    "    public_curriculum_items = {'course_id': course_id, 'curriculum': course_curriculum}\n",
    "    course_curriculum_list.append(public_curriculum_items)\n",
    "\n",
    "# add course_details_list to elasticsearch or add the data to elasticsearch in the for loop one by one"
   ]
  }
 ],
 "metadata": {
  "kernelspec": {
   "display_name": "online_courses_env",
   "language": "python",
   "name": "python3"
  },
  "language_info": {
   "codemirror_mode": {
    "name": "ipython",
    "version": 3
   },
   "file_extension": ".py",
   "mimetype": "text/x-python",
   "name": "python",
   "nbconvert_exporter": "python",
   "pygments_lexer": "ipython3",
   "version": "3.9.16"
  }
 },
 "nbformat": 4,
 "nbformat_minor": 2
}
