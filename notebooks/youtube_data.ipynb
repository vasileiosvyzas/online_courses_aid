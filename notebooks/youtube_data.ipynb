{
 "cells": [
  {
   "cell_type": "code",
   "execution_count": null,
   "metadata": {},
   "outputs": [],
   "source": [
    "import os\n",
    "from googleapiclient.discovery import build\n",
    "from googleapiclient.errors import HttpError\n",
    "from dotenv import load_dotenv, find_dotenv\n",
    "import google_auth_oauthlib.flow\n",
    "import googleapiclient.discovery\n",
    "import googleapiclient.errors\n",
    "\n",
    "from googleapiclient.http import MediaIoBaseDownload"
   ]
  },
  {
   "cell_type": "code",
   "execution_count": null,
   "metadata": {},
   "outputs": [],
   "source": [
    "# find .env automagically by walking up directories until it's found\n",
    "dotenv_path = find_dotenv()\n",
    "\n",
    "# load up the entries as environment variables\n",
    "load_dotenv(dotenv_path)\n",
    "\n",
    "DEVELOPER_KEY = os.environ.get(\"YOUTUBE_DEVELOPER_KEY\")\n",
    "YOUTUBE_API_SERVICE_NAME = 'youtube'\n",
    "YOUTUBE_API_VERSION = 'v3'"
   ]
  },
  {
   "cell_type": "code",
   "execution_count": null,
   "metadata": {},
   "outputs": [],
   "source": [
    "def youtube_search(q, max_results):\n",
    "  youtube = build(\n",
    "    YOUTUBE_API_SERVICE_NAME, \n",
    "    YOUTUBE_API_VERSION, \n",
    "    developerKey=DEVELOPER_KEY)\n",
    "\n",
    "  # Call the search.list method to retrieve results matching the specified query term.\n",
    "  search_response = youtube.search().list(\n",
    "    q=q,\n",
    "    part='id,snippet',\n",
    "    maxResults=max_results,\n",
    "    # type=item_type\n",
    "  ).execute()\n",
    "\n",
    "  videos = []\n",
    "  channels = []\n",
    "  playlists = []\n",
    "  video_details = []\n",
    "\n",
    "  # Add each result to the appropriate list, and then display the lists of\n",
    "  # matching videos, channels, and playlists.\n",
    "  for search_result in search_response.get('items', []):\n",
    "    # print(search_result)\n",
    "    if search_result['id']['kind'] == 'youtube#video':\n",
    "      video_details.append(\n",
    "              {\n",
    "                  'title': search_result['snippet']['title'], \n",
    "                  'video': search_result['id']['videoId'], \n",
    "                  'description': search_result['snippet']['description']\n",
    "              }\n",
    "              )\n",
    "    # if search_result['id']['kind'] == 'youtube#video':\n",
    "    #   videos.append('%s (%s)' % (search_result['snippet']['title'],\n",
    "    #                              search_result['id']['videoId']))\n",
    "    # elif search_result['id']['kind'] == 'youtube#channel':\n",
    "    #   channels.append('%s (%s)' % (search_result['snippet']['title'],\n",
    "    #                                search_result['id']['channelId']))\n",
    "    # elif search_result['id']['kind'] == 'youtube#playlist':\n",
    "    #   playlists.append('%s (%s)' % (search_result['snippet']['title'],\n",
    "    #                                 search_result['id']['playlistId']))\n",
    "\n",
    "  # print('Videos:\\n', '\\n'.join(videos), '\\n')\n",
    "  # print('Channels:\\n', '\\n'.join(channels), '\\n')\n",
    "  # print('Playlists:\\n', '\\n'.join(playlists), '\\n')\n",
    "  print(video_details)\n",
    "  return video_details\n",
    "  # return videos, channels, playlists"
   ]
  },
  {
   "cell_type": "code",
   "execution_count": null,
   "metadata": {},
   "outputs": [],
   "source": [
    "videos_list = youtube_search(q='Master 75+ MS Excel formulas and learn data analysis with a top Microsoft Excel & business intelligence instructor · ', max_results=50)"
   ]
  },
  {
   "cell_type": "code",
   "execution_count": null,
   "metadata": {},
   "outputs": [],
   "source": [
    "type(videos_list)"
   ]
  },
  {
   "cell_type": "code",
   "execution_count": null,
   "metadata": {},
   "outputs": [],
   "source": [
    "for inde, video in enumerate(videos_list):\n",
    "    print(inde)\n",
    "    print(video)"
   ]
  },
  {
   "cell_type": "code",
   "execution_count": null,
   "metadata": {},
   "outputs": [],
   "source": [
    "videos_list, channels_list, playlists_list = youtube_search(q='Excel with this A-Z Microsoft Excel Course. Microsoft Excel 2010, 2013, 2016, Excel 2019 and Microsoft/Office 365/2023', max_results=50)"
   ]
  },
  {
   "cell_type": "code",
   "execution_count": null,
   "metadata": {},
   "outputs": [],
   "source": [
    "playlists_list"
   ]
  },
  {
   "cell_type": "code",
   "execution_count": null,
   "metadata": {},
   "outputs": [],
   "source": [
    "def get_video_details(videoid):\n",
    "    youtube = build(\n",
    "        YOUTUBE_API_SERVICE_NAME, \n",
    "        YOUTUBE_API_VERSION,\n",
    "        developerKey=DEVELOPER_KEY\n",
    "    )\n",
    "\n",
    "    search_response = youtube.videos().list(\n",
    "        part=\"snippet,contentDetails,statistics\",\n",
    "        id=videoid\n",
    "    ).execute()\n",
    "\n",
    "    return search_response"
   ]
  },
  {
   "cell_type": "code",
   "execution_count": null,
   "metadata": {},
   "outputs": [],
   "source": [
    "get_video_details(videoid='WrNvDniOUwo')"
   ]
  },
  {
   "cell_type": "code",
   "execution_count": null,
   "metadata": {},
   "outputs": [],
   "source": [
    "for i in get_video_details(videoid=\"WrNvDniOUwo\")['items']:\n",
    "    \n",
    "    print(i['snippet']['description'])"
   ]
  },
  {
   "cell_type": "code",
   "execution_count": null,
   "metadata": {},
   "outputs": [],
   "source": [
    "from youtube_transcript_api import YouTubeTranscriptApi\n",
    "\n",
    "YouTubeTranscriptApi.get_transcript(\"Vl0H-qTclOg\", preserve_formatting=True)"
   ]
  },
  {
   "cell_type": "code",
   "execution_count": null,
   "metadata": {},
   "outputs": [],
   "source": [
    "for item in YouTubeTranscriptApi.get_transcript(\"Vl0H-qTclOg\", preserve_formatting=True):\n",
    "    print(item['text'])"
   ]
  },
  {
   "cell_type": "code",
   "execution_count": null,
   "metadata": {},
   "outputs": [],
   "source": [
    "for item in YouTubeTranscriptApi.get_transcript(\"DXOq1xiIaF0\", preserve_formatting=True):\n",
    "    print(item['text'])"
   ]
  }
 ],
 "metadata": {
  "kernelspec": {
   "display_name": "online_courses_env",
   "language": "python",
   "name": "python3"
  },
  "language_info": {
   "codemirror_mode": {
    "name": "ipython",
    "version": 3
   },
   "file_extension": ".py",
   "mimetype": "text/x-python",
   "name": "python",
   "nbconvert_exporter": "python",
   "pygments_lexer": "ipython3",
   "version": "3.9.16"
  }
 },
 "nbformat": 4,
 "nbformat_minor": 2
}
